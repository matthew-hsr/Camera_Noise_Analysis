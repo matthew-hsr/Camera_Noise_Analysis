{
 "cells": [
  {
   "cell_type": "code",
   "execution_count": 2,
   "metadata": {},
   "outputs": [],
   "source": [
    "import sympy as sp\n",
    "import numpy as np\n",
    "import numpy\n",
    "import time\n",
    "import matplotlib.pyplot as plt\n",
    "import scipy.signal\n",
    "import matplotlib\n",
    "import os\n",
    "import pickle\n",
    "from tabulate import tabulate"
   ]
  },
  {
   "cell_type": "code",
   "execution_count": 5,
   "metadata": {},
   "outputs": [],
   "source": [
    "# %reload_ext autoreload\n",
    "# %autoreload 2\n",
    "\n",
    "dataPath=r'/gpfs/data/rzia/sh92/gitfolder/Camera_Noise_Analysis'\n",
    "\n",
    "os.chdir(dataPath)\n",
    "from MVUE_1d import *"
   ]
  },
  {
   "cell_type": "code",
   "execution_count": 7,
   "metadata": {},
   "outputs": [],
   "source": [
    "# Setting up of the stage\n",
    "\n",
    "lengthOfChip=16;\n",
    "logBinUpTo=4;\n",
    "numOfSamples=1000;"
   ]
  },
  {
   "cell_type": "code",
   "execution_count": 8,
   "metadata": {},
   "outputs": [],
   "source": [
    "# This should be flexible and work for any lengthOfChip and logBinUpTo\n",
    "def loadLogBinUpTo(lengthOfChip=32, logBinUpTo=5):\n",
    "    dataDict={};\n",
    "    path=os.path.join(dataPath, '\\data\\data_1d_{}_{}'.format(lengthOfChip,logBinUpTo));\n",
    "#     path = r'C:\\Users\\matth\\gitfolder\\Research\\MVUE_Project\\data\\data_1d_{}_{}'.format(lengthOfChip, logBinUpTo);\n",
    "    for num in range(2,lengthOfChip):\n",
    "        shiftedBoxes=getShiftBoxes(lengthOfChip, num);\n",
    "        dataDict[num]=newLoadBoxes(shiftedBoxes, path)\n",
    "    basisList = generateBasis_V2(lengthOfChip, logBinUpTo);\n",
    "    basisDict=newLoadBoxes(basisList, path)\n",
    "    return dataDict, basisDict, basisList"
   ]
  },
  {
   "cell_type": "code",
   "execution_count": 9,
   "metadata": {},
   "outputs": [
    {
     "ename": "NameError",
     "evalue": "name 'newLoadBoxes' is not defined",
     "output_type": "error",
     "traceback": [
      "\u001b[0;31m---------------------------------------------------------------------------\u001b[0m",
      "\u001b[0;31mNameError\u001b[0m                                 Traceback (most recent call last)",
      "\u001b[0;32m<ipython-input-9-38cc4258bc28>\u001b[0m in \u001b[0;36m<module>\u001b[0;34m()\u001b[0m\n\u001b[0;32m----> 1\u001b[0;31m \u001b[0mdataDict\u001b[0m\u001b[0;34m,\u001b[0m \u001b[0mbasisDict\u001b[0m\u001b[0;34m,\u001b[0m \u001b[0mbasisList\u001b[0m \u001b[0;34m=\u001b[0m \u001b[0mloadLogBinUpTo\u001b[0m\u001b[0;34m(\u001b[0m\u001b[0mlengthOfChip\u001b[0m\u001b[0;34m=\u001b[0m\u001b[0;36m16\u001b[0m\u001b[0;34m,\u001b[0m \u001b[0mlogBinUpTo\u001b[0m\u001b[0;34m=\u001b[0m\u001b[0;36m4\u001b[0m\u001b[0;34m)\u001b[0m\u001b[0;34m;\u001b[0m\u001b[0;34m\u001b[0m\u001b[0m\n\u001b[0m",
      "\u001b[0;32m<ipython-input-8-d72911c7a65b>\u001b[0m in \u001b[0;36mloadLogBinUpTo\u001b[0;34m(lengthOfChip, logBinUpTo)\u001b[0m\n\u001b[1;32m      6\u001b[0m     \u001b[0;32mfor\u001b[0m \u001b[0mnum\u001b[0m \u001b[0;32min\u001b[0m \u001b[0mrange\u001b[0m\u001b[0;34m(\u001b[0m\u001b[0;36m2\u001b[0m\u001b[0;34m,\u001b[0m\u001b[0mlengthOfChip\u001b[0m\u001b[0;34m)\u001b[0m\u001b[0;34m:\u001b[0m\u001b[0;34m\u001b[0m\u001b[0m\n\u001b[1;32m      7\u001b[0m         \u001b[0mshiftedBoxes\u001b[0m\u001b[0;34m=\u001b[0m\u001b[0mgetShiftBoxes\u001b[0m\u001b[0;34m(\u001b[0m\u001b[0mlengthOfChip\u001b[0m\u001b[0;34m,\u001b[0m \u001b[0mnum\u001b[0m\u001b[0;34m)\u001b[0m\u001b[0;34m;\u001b[0m\u001b[0;34m\u001b[0m\u001b[0m\n\u001b[0;32m----> 8\u001b[0;31m         \u001b[0mdataDict\u001b[0m\u001b[0;34m[\u001b[0m\u001b[0mnum\u001b[0m\u001b[0;34m]\u001b[0m\u001b[0;34m=\u001b[0m\u001b[0mnewLoadBoxes\u001b[0m\u001b[0;34m(\u001b[0m\u001b[0mshiftedBoxes\u001b[0m\u001b[0;34m,\u001b[0m \u001b[0mpath\u001b[0m\u001b[0;34m)\u001b[0m\u001b[0;34m\u001b[0m\u001b[0m\n\u001b[0m\u001b[1;32m      9\u001b[0m     \u001b[0mbasisList\u001b[0m \u001b[0;34m=\u001b[0m \u001b[0mgenerateBasis_V2\u001b[0m\u001b[0;34m(\u001b[0m\u001b[0mlengthOfChip\u001b[0m\u001b[0;34m,\u001b[0m \u001b[0mlogBinUpTo\u001b[0m\u001b[0;34m)\u001b[0m\u001b[0;34m;\u001b[0m\u001b[0;34m\u001b[0m\u001b[0m\n\u001b[1;32m     10\u001b[0m     \u001b[0mbasisDict\u001b[0m\u001b[0;34m=\u001b[0m\u001b[0mnewLoadBoxes\u001b[0m\u001b[0;34m(\u001b[0m\u001b[0mbasisList\u001b[0m\u001b[0;34m,\u001b[0m \u001b[0mpath\u001b[0m\u001b[0;34m)\u001b[0m\u001b[0;34m\u001b[0m\u001b[0m\n",
      "\u001b[0;31mNameError\u001b[0m: name 'newLoadBoxes' is not defined"
     ]
    }
   ],
   "source": [
    "dataDict, basisDict, basisList = loadLogBinUpTo(lengthOfChip=16, logBinUpTo=4);"
   ]
  },
  {
   "cell_type": "code",
   "execution_count": null,
   "metadata": {},
   "outputs": [],
   "source": []
  }
 ],
 "metadata": {
  "kernelspec": {
   "display_name": "Python 3",
   "language": "python",
   "name": "python3"
  },
  "language_info": {
   "codemirror_mode": {
    "name": "ipython",
    "version": 3
   },
   "file_extension": ".py",
   "mimetype": "text/x-python",
   "name": "python",
   "nbconvert_exporter": "python",
   "pygments_lexer": "ipython3",
   "version": "3.6.1"
  }
 },
 "nbformat": 4,
 "nbformat_minor": 2
}
