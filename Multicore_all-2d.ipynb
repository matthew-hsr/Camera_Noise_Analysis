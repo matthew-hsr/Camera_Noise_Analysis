{
 "cells": [
  {
   "cell_type": "code",
   "execution_count": 1,
   "metadata": {
    "ExecuteTime": {
     "end_time": "2018-06-08T20:21:15.909221Z",
     "start_time": "2018-06-08T20:21:11.797216Z"
    }
   },
   "outputs": [],
   "source": [
    "from MVUE_2d import *\n",
    "import numpy as np\n",
    "from multiprocessing import Pool\n",
    "import multiprocessing\n",
    "import time"
   ]
  },
  {
   "cell_type": "code",
   "execution_count": 2,
   "metadata": {
    "ExecuteTime": {
     "end_time": "2018-06-08T20:21:16.658222Z",
     "start_time": "2018-06-08T20:21:16.642261Z"
    }
   },
   "outputs": [
    {
     "data": {
      "text/plain": [
       "16"
      ]
     },
     "execution_count": 2,
     "metadata": {},
     "output_type": "execute_result"
    }
   ],
   "source": [
    "multiprocessing.cpu_count()"
   ]
  },
  {
   "cell_type": "code",
   "execution_count": 3,
   "metadata": {
    "ExecuteTime": {
     "end_time": "2018-06-08T20:21:17.410210Z",
     "start_time": "2018-06-08T20:21:17.402229Z"
    }
   },
   "outputs": [
    {
     "data": {
      "text/plain": [
       "['.ipynb_checkpoints',\n",
       " 'Multicore_all.ipynb',\n",
       " 'MVUE_1d.py',\n",
       " 'README.md',\n",
       " '.gitignore',\n",
       " '__pycache__',\n",
       " '.git',\n",
       " 'Multicore_all-2d.ipynb',\n",
       " 'MVUE_2d.py']"
      ]
     },
     "execution_count": 3,
     "metadata": {},
     "output_type": "execute_result"
    }
   ],
   "source": [
    "import os\n",
    "os.listdir()"
   ]
  },
  {
   "cell_type": "code",
   "execution_count": 4,
   "metadata": {
    "ExecuteTime": {
     "end_time": "2018-06-08T20:21:18.879282Z",
     "start_time": "2018-06-08T20:21:18.875291Z"
    }
   },
   "outputs": [],
   "source": [
    "baseDir=os.getcwd()"
   ]
  },
  {
   "cell_type": "code",
   "execution_count": 5,
   "metadata": {
    "ExecuteTime": {
     "end_time": "2018-06-08T20:21:21.146218Z",
     "start_time": "2018-06-08T20:21:21.137243Z"
    }
   },
   "outputs": [],
   "source": [
    "dataFolderName='data';\n",
    "try:\n",
    "    os.chdir(os.path.join(baseDir,dataFolderName));\n",
    "except:\n",
    "    os.mkdir(os.path.join(baseDir,dataFolderName));\n",
    "    os.chdir(os.path.join(baseDir,dataFolderName));"
   ]
  },
  {
   "cell_type": "code",
   "execution_count": 6,
   "metadata": {
    "ExecuteTime": {
     "end_time": "2018-06-08T20:21:29.827006Z",
     "start_time": "2018-06-08T20:21:29.814040Z"
    }
   },
   "outputs": [],
   "source": [
    "def run(basis):\n",
    "    t=time.time()\n",
    "    fileName=str(basis);\n",
    "    findMVUE(fileName, targetBox=basis, lengthOfChip=lengthOfChip, logBinUpTo=logBinUpTo)\n",
    "    print(time.time()-t)\n",
    "    \n",
    "def removeDuplicates(allList):\n",
    "    allTuples=[tuple(x) for x in allList]\n",
    "    allTuples_no_repeat=list(set(allTuples))\n",
    "    len(allTuples_no_repeat)\n",
    "    allList=[np.asarray(x) for x in allTuples_no_repeat]\n",
    "    return allList    "
   ]
  },
  {
   "cell_type": "code",
   "execution_count": 7,
   "metadata": {
    "ExecuteTime": {
     "end_time": "2018-06-08T20:23:16.838395Z",
     "start_time": "2018-06-08T20:23:16.798503Z"
    }
   },
   "outputs": [
    {
     "name": "stdout",
     "output_type": "stream",
     "text": [
      "364\n"
     ]
    }
   ],
   "source": [
    "lengthOfChip=8;\n",
    "logBinUpTo=3;\n",
    "\n",
    "name='data_2d_'+str(lengthOfChip)+'_'+str(logBinUpTo)\n",
    "try:\n",
    "    os.mkdir(os.path.join(baseDir, dataFolderName, name));\n",
    "except:\n",
    "    print('File already exists');\n",
    "os.chdir(os.path.join(baseDir, dataFolderName,  name))\n",
    "\n",
    "allList=list(generateBasis_2d(lengthOfChip, logBinUpTo))\n",
    "for lengthOfROI in range(2,lengthOfChip):\n",
    "    targetBoxList=list(getShiftBoxes_2d(lengthOfChip,lengthOfROI))\n",
    "    allList=allList + targetBoxList\n",
    "    \n",
    "print(len(allList))"
   ]
  },
  {
   "cell_type": "code",
   "execution_count": null,
   "metadata": {},
   "outputs": [
    {
     "name": "stdout",
     "output_type": "stream",
     "text": [
      "25623.925139427185\n",
      "26329.712857484818\n",
      "29323.632349729538\n",
      "31048.717599868774\n",
      "35179.30886220932\n",
      "35607.20305132866\n",
      "46233.318679094315\n",
      "46599.14940237999\n",
      "46607.78192400932\n",
      "21680.90515613556\n",
      "51751.37435698509\n",
      "53070.42360448837\n",
      "53072.82447767258\n",
      "54068.78541851044\n",
      "54177.73574590683\n",
      "55890.138446092606\n",
      "56553.990119457245\n",
      "28371.57644534111\n",
      "36033.56380534172\n",
      "38689.0104136467\n",
      "28238.069905281067\n",
      "27686.791579008102\n",
      "39861.09850859642\n",
      "39897.69953203201\n",
      "44835.91987276077\n",
      "40796.27905130386\n",
      "46208.37669610977\n",
      "43107.96970939636\n",
      "34047.08420038223\n",
      "38890.870546102524\n",
      "43283.40184020996\n",
      "46008.874193668365\n",
      "46334.81316828728\n",
      "44083.677822589874\n",
      "50055.54542994499\n",
      "36372.10880756378\n",
      "31079.82824730873\n",
      "35949.339497327805\n",
      "36247.54711842537\n",
      "37414.77966713905\n",
      "40176.765090465546\n",
      "40059.117953538895\n",
      "41521.866126060486\n",
      "39315.882499694824\n",
      "39885.945969343185\n",
      "39441.32366013527\n",
      "39290.46568775177\n",
      "40550.920929431915\n",
      "40196.834763765335\n",
      "39860.3171851635\n",
      "39881.67494106293\n",
      "39306.94746637344\n",
      "39614.82476854324\n",
      "39656.16646671295\n",
      "39625.17435145378\n",
      "39385.01052522659\n",
      "39543.0398042202\n",
      "39399.29169535637\n"
     ]
    }
   ],
   "source": [
    "# allList_NR=removeDuplicates(allList)\n",
    "\n",
    "t0=time.time()\n",
    "\n",
    "if __name__ == '__main__':\n",
    "    with Pool() as p:\n",
    "        p.map(run, allList)\n",
    "        \n",
    "totalTime=time.time()-t0"
   ]
  },
  {
   "cell_type": "code",
   "execution_count": 31,
   "metadata": {},
   "outputs": [
    {
     "data": {
      "text/plain": [
       "125862.13241839409"
      ]
     },
     "execution_count": 31,
     "metadata": {},
     "output_type": "execute_result"
    }
   ],
   "source": [
    "totalTime"
   ]
  },
  {
   "cell_type": "code",
   "execution_count": 30,
   "metadata": {},
   "outputs": [
    {
     "data": {
      "text/plain": [
       "60.51064058576639"
      ]
     },
     "execution_count": 30,
     "metadata": {},
     "output_type": "execute_result"
    }
   ],
   "source": [
    "totalTime/len(allList)"
   ]
  }
 ],
 "metadata": {
  "kernelspec": {
   "display_name": "Python 3",
   "language": "python",
   "name": "python3"
  },
  "language_info": {
   "codemirror_mode": {
    "name": "ipython",
    "version": 3
   },
   "file_extension": ".py",
   "mimetype": "text/x-python",
   "name": "python",
   "nbconvert_exporter": "python",
   "pygments_lexer": "ipython3",
   "version": "3.6.1"
  }
 },
 "nbformat": 4,
 "nbformat_minor": 2
}
