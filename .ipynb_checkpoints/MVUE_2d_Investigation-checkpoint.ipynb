{
 "cells": [
  {
   "cell_type": "code",
   "execution_count": 1,
   "metadata": {
    "collapsed": true
   },
   "outputs": [],
   "source": [
    "import numpy as np\n",
    "import math\n",
    "import random\n",
    "from sympy import *\n",
    "import time\n",
    "import pickle\n",
    "import scipy.signal\n",
    "import numpy"
   ]
  },
  {
   "cell_type": "code",
   "execution_count": 4,
   "metadata": {
    "collapsed": true
   },
   "outputs": [],
   "source": [
    "import MVUE_2d"
   ]
  },
  {
   "cell_type": "code",
   "execution_count": 27,
   "metadata": {
    "collapsed": true
   },
   "outputs": [],
   "source": [
    "targetBox=np.ones((4,4));\n",
    "lengthOfChip=4;\n",
    "logBinUpTo=2;"
   ]
  },
  {
   "cell_type": "code",
   "execution_count": 28,
   "metadata": {
    "collapsed": true
   },
   "outputs": [],
   "source": [
    "\"\"\"Return a dictionary storing matrices for MVUE.\"\"\"\n",
    "\n",
    "if logBinUpTo==None:\n",
    "    logBinUpTo=int(np.log2(lengthOfChip));\n",
    "\n",
    "basisList=generateBasis_2d(lengthOfChip, logBinUpTo);\n",
    "estimatorList=generateEstimatorList_2d(targetBox, basisList, lengthOfChip, logBinUpTo)\n",
    "\n",
    "# Declare a sympy array, storing all the weights\n",
    "weightArray=symarray('w',len(estimatorList))\n",
    "weightArray[-1]=1-(np.sum(weightArray)-weightArray[-1]) ### added "
   ]
  },
  {
   "cell_type": "code",
   "execution_count": 29,
   "metadata": {},
   "outputs": [
    {
     "name": "stdout",
     "output_type": "stream",
     "text": [
      "0.1389155387878418\n",
      "0.13964080810546875\n",
      "0.39344239234924316\n"
     ]
    }
   ],
   "source": [
    "# NOTE THE ORDER OF ESTIMATORS - IT FOLLOWS ORDER OF BASIS, SO LOGBININDEX Y CHANGES FIRST\n",
    "\n",
    "t=time.time();\n",
    "allEstimator=np.zeros(estimatorList[0].shape)\n",
    "for i in range(len(estimatorList)):\n",
    "    allEstimator=allEstimator+estimatorList[i]*weightArray[i]\n",
    "print(time.time()-t)\n",
    "\n",
    "# No covariance between different estimators, since they are independent measurements\n",
    "varianceCoefArray=allEstimator*allEstimator\n",
    "print(time.time()-t)\n",
    "\n",
    "# A matrix storing the langrangian differentiated w.r.t. each of the w_s\n",
    "diffMatrix=np.empty((len(allEstimator),len(weightArray)-1),dtype=object); \n",
    "for i in range(len(allEstimator)):\n",
    "    for j in range(len(weightArray)-1):\n",
    "        diffMatrix[i,j]=diff(varianceCoefArray[i],weightArray[j])\n",
    "print(time.time()-t)"
   ]
  },
  {
   "cell_type": "code",
   "execution_count": 31,
   "metadata": {},
   "outputs": [
    {
     "name": "stdout",
     "output_type": "stream",
     "text": [
      "0.19777274131774902\n"
     ]
    }
   ],
   "source": [
    "t=time.time();\n",
    "varianceArray=symarray('V',(len(allEstimator)))\n",
    "finalSolve=np.dot(diffMatrix.T,varianceArray)\n",
    "print(time.time()-t)"
   ]
  },
  {
   "cell_type": "code",
   "execution_count": 34,
   "metadata": {},
   "outputs": [
    {
     "data": {
      "text/plain": [
       "34"
      ]
     },
     "execution_count": 34,
     "metadata": {},
     "output_type": "execute_result"
    }
   ],
   "source": [
    "len(weightArray)"
   ]
  },
  {
   "cell_type": "code",
   "execution_count": 35,
   "metadata": {},
   "outputs": [
    {
     "data": {
      "text/plain": [
       "49"
      ]
     },
     "execution_count": 35,
     "metadata": {},
     "output_type": "execute_result"
    }
   ],
   "source": [
    "len(varianceArray)"
   ]
  },
  {
   "cell_type": "code",
   "execution_count": 37,
   "metadata": {},
   "outputs": [
    {
     "data": {
      "text/plain": [
       "(33,)"
      ]
     },
     "execution_count": 37,
     "metadata": {},
     "output_type": "execute_result"
    }
   ],
   "source": [
    "finalSolve.shape"
   ]
  },
  {
   "cell_type": "code",
   "execution_count": 51,
   "metadata": {},
   "outputs": [
    {
     "name": "stdout",
     "output_type": "stream",
     "text": [
      "0.24407148361206055\n"
     ]
    }
   ],
   "source": [
    "i=2;\n",
    "j=3;\n",
    "t=time.time();\n",
    "a=Poly(finalSolve[i],weightArray[j]).coeff_monomial(weightArray[j])\n",
    "print(time.time()-t)"
   ]
  },
  {
   "cell_type": "code",
   "execution_count": 52,
   "metadata": {},
   "outputs": [
    {
     "name": "stdout",
     "output_type": "stream",
     "text": [
      "0.025096416473388672\n"
     ]
    }
   ],
   "source": [
    "i=2;\n",
    "j=3;\n",
    "t=time.time()\n",
    "b=diff(finalSolve[i],weightArray[j])\n",
    "print(time.time()-t)"
   ]
  },
  {
   "cell_type": "code",
   "execution_count": 55,
   "metadata": {},
   "outputs": [
    {
     "data": {
      "text/plain": [
       "2.0*V_0 + 2.0*V_1 + 2.0*V_10 + 2.0*V_11 + 2.0*V_12 + 2.0*V_13 + 2.0*V_14 + 2.0*V_15 + 2.0*V_48 + 2.0*V_6 + 2.0*V_7 + 2.0*V_8 + 2.0*V_9"
      ]
     },
     "execution_count": 55,
     "metadata": {},
     "output_type": "execute_result"
    }
   ],
   "source": [
    "b"
   ]
  },
  {
   "cell_type": "code",
   "execution_count": 43,
   "metadata": {
    "collapsed": true
   },
   "outputs": [
    {
     "data": {
      "text/plain": [
       "V_0*(2.0*w_0 + 2.0*w_10 + 2.0*w_11 + 2.0*w_12 + 2.0*w_14 + 2.0*w_15 + 2.0*w_16 + 2.0*w_17 + 2.0*w_18 + 2.0*w_19 + 2.0*w_2 + 2.0*w_20 + 2.0*w_22 + 2.0*w_23 + 2.0*w_24 + 2.0*w_26 + 2.0*w_28 + 2.0*w_29 + 2.0*w_3 + 2.0*w_30 + 2.0*w_32 + 2.0*w_4 + 2.0*w_5 + 2.0*w_6 + 2.0*w_7 + 2.0*w_8) + V_1*(2.0*w_0 + 2.0*w_10 + 2.0*w_11 + 2.0*w_12 + 2.0*w_13 + 2.0*w_15 + 2.0*w_16 + 2.0*w_17 + 2.0*w_18 + 2.0*w_19 + 2.0*w_2 + 2.0*w_20 + 2.0*w_22 + 2.0*w_23 + 2.0*w_24 + 2.0*w_26 + 2.0*w_27 + 2.0*w_29 + 2.0*w_3 + 2.0*w_30 + 2.0*w_32 + 2.0*w_4 + 2.0*w_5 + 2.0*w_6 + 2.0*w_7 + 2.0*w_8) + V_10*(2.0*w_0 + 2.0*w_1 + 2.0*w_10 + 2.0*w_12 + 2.0*w_13 + 2.0*w_14 + 2.0*w_15 + 2.0*w_16 + 2.0*w_17 + 2.0*w_18 + 2.0*w_2 + 2.0*w_20 + 2.0*w_21 + 2.0*w_22 + 2.0*w_23 + 2.0*w_25 + 2.0*w_27 + 2.0*w_28 + 2.0*w_3 + 2.0*w_30 + 2.0*w_31 + 2.0*w_4 + 2.0*w_5 + 2.0*w_7 + 2.0*w_8 + 2.0*w_9) + V_11*(2.0*w_0 + 2.0*w_1 + 2.0*w_10 + 2.0*w_12 + 2.0*w_13 + 2.0*w_14 + 2.0*w_15 + 2.0*w_16 + 2.0*w_17 + 2.0*w_18 + 2.0*w_19 + 2.0*w_2 + 2.0*w_21 + 2.0*w_22 + 2.0*w_23 + 2.0*w_25 + 2.0*w_27 + 2.0*w_28 + 2.0*w_29 + 2.0*w_3 + 2.0*w_31 + 2.0*w_4 + 2.0*w_5 + 2.0*w_7 + 2.0*w_8 + 2.0*w_9) + V_12*(2.0*w_0 + 2.0*w_1 + 2.0*w_10 + 2.0*w_11 + 2.0*w_13 + 2.0*w_14 + 2.0*w_15 + 2.0*w_16 + 2.0*w_18 + 2.0*w_19 + 2.0*w_2 + 2.0*w_20 + 2.0*w_21 + 2.0*w_22 + 2.0*w_24 + 2.0*w_25 + 2.0*w_28 + 2.0*w_29 + 2.0*w_3 + 2.0*w_30 + 2.0*w_32 + 2.0*w_4 + 2.0*w_5 + 2.0*w_6 + 2.0*w_8 + 2.0*w_9) + V_13*(2.0*w_0 + 2.0*w_1 + 2.0*w_10 + 2.0*w_11 + 2.0*w_13 + 2.0*w_14 + 2.0*w_15 + 2.0*w_16 + 2.0*w_17 + 2.0*w_19 + 2.0*w_2 + 2.0*w_20 + 2.0*w_21 + 2.0*w_22 + 2.0*w_24 + 2.0*w_25 + 2.0*w_27 + 2.0*w_29 + 2.0*w_3 + 2.0*w_30 + 2.0*w_32 + 2.0*w_4 + 2.0*w_5 + 2.0*w_6 + 2.0*w_8 + 2.0*w_9) + V_14*(2.0*w_0 + 2.0*w_1 + 2.0*w_10 + 2.0*w_11 + 2.0*w_13 + 2.0*w_14 + 2.0*w_15 + 2.0*w_16 + 2.0*w_17 + 2.0*w_18 + 2.0*w_2 + 2.0*w_20 + 2.0*w_21 + 2.0*w_22 + 2.0*w_23 + 2.0*w_25 + 2.0*w_27 + 2.0*w_28 + 2.0*w_3 + 2.0*w_30 + 2.0*w_31 + 2.0*w_4 + 2.0*w_5 + 2.0*w_6 + 2.0*w_7 + 2.0*w_9) + V_15*(2.0*w_0 + 2.0*w_1 + 2.0*w_10 + 2.0*w_11 + 2.0*w_13 + 2.0*w_14 + 2.0*w_15 + 2.0*w_16 + 2.0*w_17 + 2.0*w_18 + 2.0*w_19 + 2.0*w_2 + 2.0*w_21 + 2.0*w_22 + 2.0*w_23 + 2.0*w_25 + 2.0*w_27 + 2.0*w_28 + 2.0*w_29 + 2.0*w_3 + 2.0*w_31 + 2.0*w_4 + 2.0*w_5 + 2.0*w_6 + 2.0*w_7 + 2.0*w_9) + V_2*(2.0*w_0 + 2.0*w_1 + 2.0*w_10 + 2.0*w_11 + 2.0*w_12 + 2.0*w_13 + 2.0*w_14 + 2.0*w_16 + 2.0*w_17 + 2.0*w_18 + 2.0*w_19 + 2.0*w_20 + 2.0*w_21 + 2.0*w_23 + 2.0*w_24 + 2.0*w_26 + 2.0*w_27 + 2.0*w_28 + 2.0*w_3 + 2.0*w_30 + 2.0*w_31 + 2.0*w_4 + 2.0*w_5 + 2.0*w_6 + 2.0*w_7 + 2.0*w_8) + V_3*(2.0*w_0 + 2.0*w_1 + 2.0*w_10 + 2.0*w_11 + 2.0*w_12 + 2.0*w_13 + 2.0*w_14 + 2.0*w_15 + 2.0*w_17 + 2.0*w_18 + 2.0*w_19 + 2.0*w_20 + 2.0*w_21 + 2.0*w_23 + 2.0*w_24 + 2.0*w_26 + 2.0*w_27 + 2.0*w_28 + 2.0*w_29 + 2.0*w_3 + 2.0*w_31 + 2.0*w_4 + 2.0*w_5 + 2.0*w_6 + 2.0*w_7 + 2.0*w_8) + V_4*(2.0*w_0 + 2.0*w_1 + 2.0*w_11 + 2.0*w_12 + 2.0*w_14 + 2.0*w_15 + 2.0*w_16 + 2.0*w_17 + 2.0*w_18 + 2.0*w_19 + 2.0*w_2 + 2.0*w_20 + 2.0*w_22 + 2.0*w_23 + 2.0*w_24 + 2.0*w_26 + 2.0*w_28 + 2.0*w_29 + 2.0*w_30 + 2.0*w_32 + 2.0*w_4 + 2.0*w_5 + 2.0*w_6 + 2.0*w_7 + 2.0*w_8 + 2.0*w_9) + V_48*(2.0*w_0 + 2.0*w_1 + 2.0*w_10 + 2.0*w_11 + 2.0*w_12 + 2.0*w_13 + 2.0*w_14 + 2.0*w_15 + 2.0*w_16 + 2.0*w_17 + 2.0*w_18 + 2.0*w_19 + 2.0*w_2 + 2.0*w_20 + 2.0*w_21 + 2.0*w_22 + 2.0*w_23 + 2.0*w_24 + 2.0*w_25 + 2.0*w_26 + 2.0*w_27 + 2.0*w_28 + 2.0*w_29 + 2.0*w_3 + 2.0*w_30 + 2.0*w_31 + 2.0*w_32 + 2.0*w_4 + 2.0*w_5 + 2.0*w_6 + 2.0*w_7 + 2.0*w_8 + 2.0*w_9 - 2.0) + V_5*(2.0*w_0 + 2.0*w_1 + 2.0*w_11 + 2.0*w_12 + 2.0*w_13 + 2.0*w_15 + 2.0*w_16 + 2.0*w_17 + 2.0*w_18 + 2.0*w_19 + 2.0*w_2 + 2.0*w_20 + 2.0*w_22 + 2.0*w_23 + 2.0*w_24 + 2.0*w_26 + 2.0*w_27 + 2.0*w_29 + 2.0*w_30 + 2.0*w_32 + 2.0*w_4 + 2.0*w_5 + 2.0*w_6 + 2.0*w_7 + 2.0*w_8 + 2.0*w_9) + V_6*(2.0*w_0 + 2.0*w_1 + 2.0*w_11 + 2.0*w_12 + 2.0*w_13 + 2.0*w_14 + 2.0*w_16 + 2.0*w_17 + 2.0*w_18 + 2.0*w_19 + 2.0*w_2 + 2.0*w_20 + 2.0*w_21 + 2.0*w_23 + 2.0*w_24 + 2.0*w_26 + 2.0*w_27 + 2.0*w_28 + 2.0*w_3 + 2.0*w_30 + 2.0*w_31 + 2.0*w_5 + 2.0*w_6 + 2.0*w_7 + 2.0*w_8 + 2.0*w_9) + V_7*(2.0*w_0 + 2.0*w_1 + 2.0*w_11 + 2.0*w_12 + 2.0*w_13 + 2.0*w_14 + 2.0*w_15 + 2.0*w_17 + 2.0*w_18 + 2.0*w_19 + 2.0*w_2 + 2.0*w_20 + 2.0*w_21 + 2.0*w_23 + 2.0*w_24 + 2.0*w_26 + 2.0*w_27 + 2.0*w_28 + 2.0*w_29 + 2.0*w_3 + 2.0*w_31 + 2.0*w_5 + 2.0*w_6 + 2.0*w_7 + 2.0*w_8 + 2.0*w_9) + V_8*(2.0*w_0 + 2.0*w_1 + 2.0*w_10 + 2.0*w_12 + 2.0*w_13 + 2.0*w_14 + 2.0*w_15 + 2.0*w_16 + 2.0*w_18 + 2.0*w_19 + 2.0*w_2 + 2.0*w_20 + 2.0*w_21 + 2.0*w_22 + 2.0*w_24 + 2.0*w_25 + 2.0*w_28 + 2.0*w_29 + 2.0*w_3 + 2.0*w_30 + 2.0*w_32 + 2.0*w_4 + 2.0*w_6 + 2.0*w_7 + 2.0*w_8 + 2.0*w_9) + V_9*(2.0*w_0 + 2.0*w_1 + 2.0*w_10 + 2.0*w_12 + 2.0*w_13 + 2.0*w_14 + 2.0*w_15 + 2.0*w_16 + 2.0*w_17 + 2.0*w_19 + 2.0*w_2 + 2.0*w_20 + 2.0*w_21 + 2.0*w_22 + 2.0*w_24 + 2.0*w_25 + 2.0*w_27 + 2.0*w_29 + 2.0*w_3 + 2.0*w_30 + 2.0*w_32 + 2.0*w_4 + 2.0*w_6 + 2.0*w_7 + 2.0*w_8 + 2.0*w_9)"
      ]
     },
     "execution_count": 43,
     "metadata": {},
     "output_type": "execute_result"
    }
   ],
   "source": [
    "finalSolve[0]"
   ]
  },
  {
   "cell_type": "code",
   "execution_count": 58,
   "metadata": {},
   "outputs": [
    {
     "name": "stdout",
     "output_type": "stream",
     "text": [
      "4.598331928253174\n"
     ]
    }
   ],
   "source": [
    "# New version which just involves differentation\n",
    "\n",
    "t=time.time();\n",
    "finalSolveWeightCoeffMatrix=np.empty((len(finalSolve),len(weightArray)-1),dtype=object);\n",
    "for i in range(len(finalSolve)):\n",
    "    for j in range(len(weightArray)-1):\n",
    "        finalSolveWeightCoeffMatrix[i,j]=diff(finalSolve[i],weightArray[j])\n",
    "print(time.time()-t)"
   ]
  },
  {
   "cell_type": "code",
   "execution_count": null,
   "metadata": {
    "collapsed": true
   },
   "outputs": [],
   "source": [
    "t=time.time();\n",
    "constantOnTheRight=np.empty(len(finalSolve),dtype=object);\n",
    "for i in range(len(finalSolve)):\n",
    "    constantOnTheRight[i]=simplify(finalSolve[i]-np.dot(finalSolveWeightCoeffMatrix[i,:], weightArray[:-1]))*-1\n",
    "    print(time.time()-t)\n",
    "\n",
    "finalSolveWeightCoeffMatrixSympy=Matrix(finalSolveWeightCoeffMatrix);\n",
    "matrixFunc=lambdify(varianceArray, finalSolveWeightCoeffMatrixSympy, numpy);\n",
    "COTRFunc=lambdify(varianceArray, Matrix(constantOnTheRight), numpy);\n"
   ]
  },
  {
   "cell_type": "code",
   "execution_count": null,
   "metadata": {
    "collapsed": true
   },
   "outputs": [],
   "source": []
  },
  {
   "cell_type": "code",
   "execution_count": 59,
   "metadata": {},
   "outputs": [
    {
     "name": "stdout",
     "output_type": "stream",
     "text": [
      "6430.7142469882965\n"
     ]
    }
   ],
   "source": [
    "# old version\n",
    "\n",
    "t=time.time();\n",
    "finalSolveWeightCoeffMatrix=np.empty((len(finalSolve),len(weightArray)-1),dtype=object);\n",
    "for i in range(len(finalSolve)):\n",
    "    for j in range(len(weightArray)-1):\n",
    "        finalSolveWeightCoeffMatrix[i,j]=Poly(finalSolve[i],weightArray[j]).coeff_monomial(weightArray[j])\n",
    "print(time.time()-t)"
   ]
  },
  {
   "cell_type": "code",
   "execution_count": 56,
   "metadata": {},
   "outputs": [
    {
     "ename": "KeyboardInterrupt",
     "evalue": "",
     "output_type": "error",
     "traceback": [
      "\u001b[0;31m---------------------------------------------------------------------------\u001b[0m",
      "\u001b[0;31mKeyboardInterrupt\u001b[0m                         Traceback (most recent call last)",
      "\u001b[0;32m<ipython-input-56-c7e94543cf06>\u001b[0m in \u001b[0;36m<module>\u001b[0;34m()\u001b[0m\n\u001b[1;32m      3\u001b[0m \u001b[0;32mfor\u001b[0m \u001b[0mi\u001b[0m \u001b[0;32min\u001b[0m \u001b[0mrange\u001b[0m\u001b[0;34m(\u001b[0m\u001b[0mlen\u001b[0m\u001b[0;34m(\u001b[0m\u001b[0mfinalSolve\u001b[0m\u001b[0;34m)\u001b[0m\u001b[0;34m)\u001b[0m\u001b[0;34m:\u001b[0m\u001b[0;34m\u001b[0m\u001b[0m\n\u001b[1;32m      4\u001b[0m     \u001b[0;32mfor\u001b[0m \u001b[0mj\u001b[0m \u001b[0;32min\u001b[0m \u001b[0mrange\u001b[0m\u001b[0;34m(\u001b[0m\u001b[0mlen\u001b[0m\u001b[0;34m(\u001b[0m\u001b[0mweightArray\u001b[0m\u001b[0;34m)\u001b[0m\u001b[0;34m-\u001b[0m\u001b[0;36m1\u001b[0m\u001b[0;34m)\u001b[0m\u001b[0;34m:\u001b[0m\u001b[0;34m\u001b[0m\u001b[0m\n\u001b[0;32m----> 5\u001b[0;31m         \u001b[0mfinalSolveWeightCoeffMatrix\u001b[0m\u001b[0;34m[\u001b[0m\u001b[0mi\u001b[0m\u001b[0;34m,\u001b[0m\u001b[0mj\u001b[0m\u001b[0;34m]\u001b[0m\u001b[0;34m=\u001b[0m\u001b[0mPoly\u001b[0m\u001b[0;34m(\u001b[0m\u001b[0mfinalSolve\u001b[0m\u001b[0;34m[\u001b[0m\u001b[0mi\u001b[0m\u001b[0;34m]\u001b[0m\u001b[0;34m,\u001b[0m\u001b[0mweightArray\u001b[0m\u001b[0;34m[\u001b[0m\u001b[0mj\u001b[0m\u001b[0;34m]\u001b[0m\u001b[0;34m)\u001b[0m\u001b[0;34m.\u001b[0m\u001b[0mcoeff_monomial\u001b[0m\u001b[0;34m(\u001b[0m\u001b[0mweightArray\u001b[0m\u001b[0;34m[\u001b[0m\u001b[0mj\u001b[0m\u001b[0;34m]\u001b[0m\u001b[0;34m)\u001b[0m\u001b[0;34m\u001b[0m\u001b[0m\n\u001b[0m\u001b[1;32m      6\u001b[0m \u001b[0mprint\u001b[0m\u001b[0;34m(\u001b[0m\u001b[0mtime\u001b[0m\u001b[0;34m.\u001b[0m\u001b[0mtime\u001b[0m\u001b[0;34m(\u001b[0m\u001b[0;34m)\u001b[0m\u001b[0;34m-\u001b[0m\u001b[0mt\u001b[0m\u001b[0;34m)\u001b[0m\u001b[0;34m\u001b[0m\u001b[0m\n\u001b[1;32m      7\u001b[0m \u001b[0;34m\u001b[0m\u001b[0m\n",
      "\u001b[0;32m~/miniconda3/envs/pm/lib/python3.6/site-packages/sympy/polys/polytools.py\u001b[0m in \u001b[0;36m__new__\u001b[0;34m(cls, rep, *gens, **args)\u001b[0m\n\u001b[1;32m    127\u001b[0m                 \u001b[0;32mreturn\u001b[0m \u001b[0mcls\u001b[0m\u001b[0;34m.\u001b[0m\u001b[0m_from_poly\u001b[0m\u001b[0;34m(\u001b[0m\u001b[0mrep\u001b[0m\u001b[0;34m,\u001b[0m \u001b[0mopt\u001b[0m\u001b[0;34m)\u001b[0m\u001b[0;34m\u001b[0m\u001b[0m\n\u001b[1;32m    128\u001b[0m             \u001b[0;32melse\u001b[0m\u001b[0;34m:\u001b[0m\u001b[0;34m\u001b[0m\u001b[0m\n\u001b[0;32m--> 129\u001b[0;31m                 \u001b[0;32mreturn\u001b[0m \u001b[0mcls\u001b[0m\u001b[0;34m.\u001b[0m\u001b[0m_from_expr\u001b[0m\u001b[0;34m(\u001b[0m\u001b[0mrep\u001b[0m\u001b[0;34m,\u001b[0m \u001b[0mopt\u001b[0m\u001b[0;34m)\u001b[0m\u001b[0;34m\u001b[0m\u001b[0m\n\u001b[0m\u001b[1;32m    130\u001b[0m \u001b[0;34m\u001b[0m\u001b[0m\n\u001b[1;32m    131\u001b[0m     \u001b[0;34m@\u001b[0m\u001b[0mclassmethod\u001b[0m\u001b[0;34m\u001b[0m\u001b[0m\n",
      "\u001b[0;32m~/miniconda3/envs/pm/lib/python3.6/site-packages/sympy/polys/polytools.py\u001b[0m in \u001b[0;36m_from_expr\u001b[0;34m(cls, rep, opt)\u001b[0m\n\u001b[1;32m    237\u001b[0m     \u001b[0;32mdef\u001b[0m \u001b[0m_from_expr\u001b[0m\u001b[0;34m(\u001b[0m\u001b[0mcls\u001b[0m\u001b[0;34m,\u001b[0m \u001b[0mrep\u001b[0m\u001b[0;34m,\u001b[0m \u001b[0mopt\u001b[0m\u001b[0;34m)\u001b[0m\u001b[0;34m:\u001b[0m\u001b[0;34m\u001b[0m\u001b[0m\n\u001b[1;32m    238\u001b[0m         \u001b[0;34m\"\"\"Construct a polynomial from an expression. \"\"\"\u001b[0m\u001b[0;34m\u001b[0m\u001b[0m\n\u001b[0;32m--> 239\u001b[0;31m         \u001b[0mrep\u001b[0m\u001b[0;34m,\u001b[0m \u001b[0mopt\u001b[0m \u001b[0;34m=\u001b[0m \u001b[0m_dict_from_expr\u001b[0m\u001b[0;34m(\u001b[0m\u001b[0mrep\u001b[0m\u001b[0;34m,\u001b[0m \u001b[0mopt\u001b[0m\u001b[0;34m)\u001b[0m\u001b[0;34m\u001b[0m\u001b[0m\n\u001b[0m\u001b[1;32m    240\u001b[0m         \u001b[0;32mreturn\u001b[0m \u001b[0mcls\u001b[0m\u001b[0;34m.\u001b[0m\u001b[0m_from_dict\u001b[0m\u001b[0;34m(\u001b[0m\u001b[0mrep\u001b[0m\u001b[0;34m,\u001b[0m \u001b[0mopt\u001b[0m\u001b[0;34m)\u001b[0m\u001b[0;34m\u001b[0m\u001b[0m\n\u001b[1;32m    241\u001b[0m \u001b[0;34m\u001b[0m\u001b[0m\n",
      "\u001b[0;32m~/miniconda3/envs/pm/lib/python3.6/site-packages/sympy/polys/polyutils.py\u001b[0m in \u001b[0;36m_dict_from_expr\u001b[0;34m(expr, opt)\u001b[0m\n\u001b[1;32m    363\u001b[0m \u001b[0;34m\u001b[0m\u001b[0m\n\u001b[1;32m    364\u001b[0m     \u001b[0;32mif\u001b[0m \u001b[0mopt\u001b[0m\u001b[0;34m.\u001b[0m\u001b[0mgens\u001b[0m\u001b[0;34m:\u001b[0m\u001b[0;34m\u001b[0m\u001b[0m\n\u001b[0;32m--> 365\u001b[0;31m         \u001b[0mrep\u001b[0m\u001b[0;34m,\u001b[0m \u001b[0mgens\u001b[0m \u001b[0;34m=\u001b[0m \u001b[0m_dict_from_expr_if_gens\u001b[0m\u001b[0;34m(\u001b[0m\u001b[0mexpr\u001b[0m\u001b[0;34m,\u001b[0m \u001b[0mopt\u001b[0m\u001b[0;34m)\u001b[0m\u001b[0;34m\u001b[0m\u001b[0m\n\u001b[0m\u001b[1;32m    366\u001b[0m     \u001b[0;32melse\u001b[0m\u001b[0;34m:\u001b[0m\u001b[0;34m\u001b[0m\u001b[0m\n\u001b[1;32m    367\u001b[0m         \u001b[0mrep\u001b[0m\u001b[0;34m,\u001b[0m \u001b[0mgens\u001b[0m \u001b[0;34m=\u001b[0m \u001b[0m_dict_from_expr_no_gens\u001b[0m\u001b[0;34m(\u001b[0m\u001b[0mexpr\u001b[0m\u001b[0;34m,\u001b[0m \u001b[0mopt\u001b[0m\u001b[0;34m)\u001b[0m\u001b[0;34m\u001b[0m\u001b[0m\n",
      "\u001b[0;32m~/miniconda3/envs/pm/lib/python3.6/site-packages/sympy/polys/polyutils.py\u001b[0m in \u001b[0;36m_dict_from_expr_if_gens\u001b[0;34m(expr, opt)\u001b[0m\n\u001b[1;32m    302\u001b[0m \u001b[0;32mdef\u001b[0m \u001b[0m_dict_from_expr_if_gens\u001b[0m\u001b[0;34m(\u001b[0m\u001b[0mexpr\u001b[0m\u001b[0;34m,\u001b[0m \u001b[0mopt\u001b[0m\u001b[0;34m)\u001b[0m\u001b[0;34m:\u001b[0m\u001b[0;34m\u001b[0m\u001b[0m\n\u001b[1;32m    303\u001b[0m     \u001b[0;34m\"\"\"Transform an expression into a multinomial form given generators. \"\"\"\u001b[0m\u001b[0;34m\u001b[0m\u001b[0m\n\u001b[0;32m--> 304\u001b[0;31m     \u001b[0;34m(\u001b[0m\u001b[0mpoly\u001b[0m\u001b[0;34m,\u001b[0m\u001b[0;34m)\u001b[0m\u001b[0;34m,\u001b[0m \u001b[0mgens\u001b[0m \u001b[0;34m=\u001b[0m \u001b[0m_parallel_dict_from_expr_if_gens\u001b[0m\u001b[0;34m(\u001b[0m\u001b[0;34m(\u001b[0m\u001b[0mexpr\u001b[0m\u001b[0;34m,\u001b[0m\u001b[0;34m)\u001b[0m\u001b[0;34m,\u001b[0m \u001b[0mopt\u001b[0m\u001b[0;34m)\u001b[0m\u001b[0;34m\u001b[0m\u001b[0m\n\u001b[0m\u001b[1;32m    305\u001b[0m     \u001b[0;32mreturn\u001b[0m \u001b[0mpoly\u001b[0m\u001b[0;34m,\u001b[0m \u001b[0mgens\u001b[0m\u001b[0;34m\u001b[0m\u001b[0m\n\u001b[1;32m    306\u001b[0m \u001b[0;34m\u001b[0m\u001b[0m\n",
      "\u001b[0;32m~/miniconda3/envs/pm/lib/python3.6/site-packages/sympy/polys/polyutils.py\u001b[0m in \u001b[0;36m_parallel_dict_from_expr_if_gens\u001b[0;34m(exprs, opt)\u001b[0m\n\u001b[1;32m    217\u001b[0m \u001b[0;34m\u001b[0m\u001b[0m\n\u001b[1;32m    218\u001b[0m             \u001b[0;32mif\u001b[0m \u001b[0mmonom\u001b[0m \u001b[0;32min\u001b[0m \u001b[0mpoly\u001b[0m\u001b[0;34m:\u001b[0m\u001b[0;34m\u001b[0m\u001b[0m\n\u001b[0;32m--> 219\u001b[0;31m                 \u001b[0mpoly\u001b[0m\u001b[0;34m[\u001b[0m\u001b[0mmonom\u001b[0m\u001b[0;34m]\u001b[0m \u001b[0;34m+=\u001b[0m \u001b[0mMul\u001b[0m\u001b[0;34m(\u001b[0m\u001b[0;34m*\u001b[0m\u001b[0mcoeff\u001b[0m\u001b[0;34m)\u001b[0m\u001b[0;34m\u001b[0m\u001b[0m\n\u001b[0m\u001b[1;32m    220\u001b[0m             \u001b[0;32melse\u001b[0m\u001b[0;34m:\u001b[0m\u001b[0;34m\u001b[0m\u001b[0m\n\u001b[1;32m    221\u001b[0m                 \u001b[0mpoly\u001b[0m\u001b[0;34m[\u001b[0m\u001b[0mmonom\u001b[0m\u001b[0;34m]\u001b[0m \u001b[0;34m=\u001b[0m \u001b[0mMul\u001b[0m\u001b[0;34m(\u001b[0m\u001b[0;34m*\u001b[0m\u001b[0mcoeff\u001b[0m\u001b[0;34m)\u001b[0m\u001b[0;34m\u001b[0m\u001b[0m\n",
      "\u001b[0;32m~/miniconda3/envs/pm/lib/python3.6/site-packages/sympy/core/decorators.py\u001b[0m in \u001b[0;36m__sympifyit_wrapper\u001b[0;34m(a, b)\u001b[0m\n\u001b[1;32m     89\u001b[0m                 \u001b[0;32mif\u001b[0m \u001b[0;32mnot\u001b[0m \u001b[0mhasattr\u001b[0m\u001b[0;34m(\u001b[0m\u001b[0mb\u001b[0m\u001b[0;34m,\u001b[0m \u001b[0;34m'_op_priority'\u001b[0m\u001b[0;34m)\u001b[0m\u001b[0;34m:\u001b[0m\u001b[0;34m\u001b[0m\u001b[0m\n\u001b[1;32m     90\u001b[0m                     \u001b[0mb\u001b[0m \u001b[0;34m=\u001b[0m \u001b[0msympify\u001b[0m\u001b[0;34m(\u001b[0m\u001b[0mb\u001b[0m\u001b[0;34m,\u001b[0m \u001b[0mstrict\u001b[0m\u001b[0;34m=\u001b[0m\u001b[0;32mTrue\u001b[0m\u001b[0;34m)\u001b[0m\u001b[0;34m\u001b[0m\u001b[0m\n\u001b[0;32m---> 91\u001b[0;31m                 \u001b[0;32mreturn\u001b[0m \u001b[0mfunc\u001b[0m\u001b[0;34m(\u001b[0m\u001b[0ma\u001b[0m\u001b[0;34m,\u001b[0m \u001b[0mb\u001b[0m\u001b[0;34m)\u001b[0m\u001b[0;34m\u001b[0m\u001b[0m\n\u001b[0m\u001b[1;32m     92\u001b[0m             \u001b[0;32mexcept\u001b[0m \u001b[0mSympifyError\u001b[0m\u001b[0;34m:\u001b[0m\u001b[0;34m\u001b[0m\u001b[0m\n\u001b[1;32m     93\u001b[0m                 \u001b[0;32mreturn\u001b[0m \u001b[0mretval\u001b[0m\u001b[0;34m\u001b[0m\u001b[0m\n",
      "\u001b[0;32m~/miniconda3/envs/pm/lib/python3.6/site-packages/sympy/core/decorators.py\u001b[0m in \u001b[0;36mbinary_op_wrapper\u001b[0;34m(self, other)\u001b[0m\n\u001b[1;32m    130\u001b[0m                     \u001b[0;32melse\u001b[0m\u001b[0;34m:\u001b[0m\u001b[0;34m\u001b[0m\u001b[0m\n\u001b[1;32m    131\u001b[0m                         \u001b[0;32mreturn\u001b[0m \u001b[0mf\u001b[0m\u001b[0;34m(\u001b[0m\u001b[0mself\u001b[0m\u001b[0;34m)\u001b[0m\u001b[0;34m\u001b[0m\u001b[0m\n\u001b[0;32m--> 132\u001b[0;31m             \u001b[0;32mreturn\u001b[0m \u001b[0mfunc\u001b[0m\u001b[0;34m(\u001b[0m\u001b[0mself\u001b[0m\u001b[0;34m,\u001b[0m \u001b[0mother\u001b[0m\u001b[0;34m)\u001b[0m\u001b[0;34m\u001b[0m\u001b[0m\n\u001b[0m\u001b[1;32m    133\u001b[0m         \u001b[0;32mreturn\u001b[0m \u001b[0mbinary_op_wrapper\u001b[0m\u001b[0;34m\u001b[0m\u001b[0m\n\u001b[1;32m    134\u001b[0m     \u001b[0;32mreturn\u001b[0m \u001b[0mpriority_decorator\u001b[0m\u001b[0;34m\u001b[0m\u001b[0m\n",
      "\u001b[0;32m~/miniconda3/envs/pm/lib/python3.6/site-packages/sympy/core/expr.py\u001b[0m in \u001b[0;36m__add__\u001b[0;34m(self, other)\u001b[0m\n\u001b[1;32m    118\u001b[0m     \u001b[0;34m@\u001b[0m\u001b[0mcall_highest_priority\u001b[0m\u001b[0;34m(\u001b[0m\u001b[0;34m'__radd__'\u001b[0m\u001b[0;34m)\u001b[0m\u001b[0;34m\u001b[0m\u001b[0m\n\u001b[1;32m    119\u001b[0m     \u001b[0;32mdef\u001b[0m \u001b[0m__add__\u001b[0m\u001b[0;34m(\u001b[0m\u001b[0mself\u001b[0m\u001b[0;34m,\u001b[0m \u001b[0mother\u001b[0m\u001b[0;34m)\u001b[0m\u001b[0;34m:\u001b[0m\u001b[0;34m\u001b[0m\u001b[0m\n\u001b[0;32m--> 120\u001b[0;31m         \u001b[0;32mreturn\u001b[0m \u001b[0mAdd\u001b[0m\u001b[0;34m(\u001b[0m\u001b[0mself\u001b[0m\u001b[0;34m,\u001b[0m \u001b[0mother\u001b[0m\u001b[0;34m)\u001b[0m\u001b[0;34m\u001b[0m\u001b[0m\n\u001b[0m\u001b[1;32m    121\u001b[0m \u001b[0;34m\u001b[0m\u001b[0m\n\u001b[1;32m    122\u001b[0m     \u001b[0;34m@\u001b[0m\u001b[0m_sympifyit\u001b[0m\u001b[0;34m(\u001b[0m\u001b[0;34m'other'\u001b[0m\u001b[0;34m,\u001b[0m \u001b[0mNotImplemented\u001b[0m\u001b[0;34m)\u001b[0m\u001b[0;34m\u001b[0m\u001b[0m\n",
      "\u001b[0;32m~/miniconda3/envs/pm/lib/python3.6/site-packages/sympy/core/operations.py\u001b[0m in \u001b[0;36m__new__\u001b[0;34m(cls, *args, **options)\u001b[0m\n\u001b[1;32m     39\u001b[0m             \u001b[0;32mreturn\u001b[0m \u001b[0margs\u001b[0m\u001b[0;34m[\u001b[0m\u001b[0;36m0\u001b[0m\u001b[0;34m]\u001b[0m\u001b[0;34m\u001b[0m\u001b[0m\n\u001b[1;32m     40\u001b[0m \u001b[0;34m\u001b[0m\u001b[0m\n\u001b[0;32m---> 41\u001b[0;31m         \u001b[0mc_part\u001b[0m\u001b[0;34m,\u001b[0m \u001b[0mnc_part\u001b[0m\u001b[0;34m,\u001b[0m \u001b[0morder_symbols\u001b[0m \u001b[0;34m=\u001b[0m \u001b[0mcls\u001b[0m\u001b[0;34m.\u001b[0m\u001b[0mflatten\u001b[0m\u001b[0;34m(\u001b[0m\u001b[0margs\u001b[0m\u001b[0;34m)\u001b[0m\u001b[0;34m\u001b[0m\u001b[0m\n\u001b[0m\u001b[1;32m     42\u001b[0m         \u001b[0mis_commutative\u001b[0m \u001b[0;34m=\u001b[0m \u001b[0;32mnot\u001b[0m \u001b[0mnc_part\u001b[0m\u001b[0;34m\u001b[0m\u001b[0m\n\u001b[1;32m     43\u001b[0m         \u001b[0mobj\u001b[0m \u001b[0;34m=\u001b[0m \u001b[0mcls\u001b[0m\u001b[0;34m.\u001b[0m\u001b[0m_from_args\u001b[0m\u001b[0;34m(\u001b[0m\u001b[0mc_part\u001b[0m \u001b[0;34m+\u001b[0m \u001b[0mnc_part\u001b[0m\u001b[0;34m,\u001b[0m \u001b[0mis_commutative\u001b[0m\u001b[0;34m)\u001b[0m\u001b[0;34m\u001b[0m\u001b[0m\n",
      "\u001b[0;32m~/miniconda3/envs/pm/lib/python3.6/site-packages/sympy/core/add.py\u001b[0m in \u001b[0;36mflatten\u001b[0;34m(cls, seq)\u001b[0m\n\u001b[1;32m    210\u001b[0m                     \u001b[0;31m# Mul, already keeps its arguments in perfect order.\u001b[0m\u001b[0;34m\u001b[0m\u001b[0;34m\u001b[0m\u001b[0m\n\u001b[1;32m    211\u001b[0m                     \u001b[0;31m# so we can simply put c in slot0 and go the fast way.\u001b[0m\u001b[0;34m\u001b[0m\u001b[0;34m\u001b[0m\u001b[0m\n\u001b[0;32m--> 212\u001b[0;31m                     \u001b[0mcs\u001b[0m \u001b[0;34m=\u001b[0m \u001b[0ms\u001b[0m\u001b[0;34m.\u001b[0m\u001b[0m_new_rawargs\u001b[0m\u001b[0;34m(\u001b[0m\u001b[0;34m*\u001b[0m\u001b[0;34m(\u001b[0m\u001b[0;34m(\u001b[0m\u001b[0mc\u001b[0m\u001b[0;34m,\u001b[0m\u001b[0;34m)\u001b[0m \u001b[0;34m+\u001b[0m \u001b[0ms\u001b[0m\u001b[0;34m.\u001b[0m\u001b[0margs\u001b[0m\u001b[0;34m)\u001b[0m\u001b[0;34m)\u001b[0m\u001b[0;34m\u001b[0m\u001b[0m\n\u001b[0m\u001b[1;32m    213\u001b[0m                     \u001b[0mnewseq\u001b[0m\u001b[0;34m.\u001b[0m\u001b[0mappend\u001b[0m\u001b[0;34m(\u001b[0m\u001b[0mcs\u001b[0m\u001b[0;34m)\u001b[0m\u001b[0;34m\u001b[0m\u001b[0m\n\u001b[1;32m    214\u001b[0m                 \u001b[0;32melif\u001b[0m \u001b[0ms\u001b[0m\u001b[0;34m.\u001b[0m\u001b[0mis_Add\u001b[0m\u001b[0;34m:\u001b[0m\u001b[0;34m\u001b[0m\u001b[0m\n",
      "\u001b[0;32m~/miniconda3/envs/pm/lib/python3.6/site-packages/sympy/core/operations.py\u001b[0m in \u001b[0;36m_new_rawargs\u001b[0;34m(self, *args, **kwargs)\u001b[0m\n\u001b[1;32m    108\u001b[0m         \u001b[0;32melse\u001b[0m\u001b[0;34m:\u001b[0m\u001b[0;34m\u001b[0m\u001b[0m\n\u001b[1;32m    109\u001b[0m             \u001b[0mis_commutative\u001b[0m \u001b[0;34m=\u001b[0m \u001b[0mself\u001b[0m\u001b[0;34m.\u001b[0m\u001b[0mis_commutative\u001b[0m\u001b[0;34m\u001b[0m\u001b[0m\n\u001b[0;32m--> 110\u001b[0;31m         \u001b[0;32mreturn\u001b[0m \u001b[0mself\u001b[0m\u001b[0;34m.\u001b[0m\u001b[0m_from_args\u001b[0m\u001b[0;34m(\u001b[0m\u001b[0margs\u001b[0m\u001b[0;34m,\u001b[0m \u001b[0mis_commutative\u001b[0m\u001b[0;34m)\u001b[0m\u001b[0;34m\u001b[0m\u001b[0m\n\u001b[0m\u001b[1;32m    111\u001b[0m \u001b[0;34m\u001b[0m\u001b[0m\n\u001b[1;32m    112\u001b[0m     \u001b[0;34m@\u001b[0m\u001b[0mclassmethod\u001b[0m\u001b[0;34m\u001b[0m\u001b[0m\n",
      "\u001b[0;32m~/miniconda3/envs/pm/lib/python3.6/site-packages/sympy/core/operations.py\u001b[0m in \u001b[0;36m_from_args\u001b[0;34m(cls, args, is_commutative)\u001b[0m\n\u001b[1;32m     56\u001b[0m             \u001b[0;32mreturn\u001b[0m \u001b[0margs\u001b[0m\u001b[0;34m[\u001b[0m\u001b[0;36m0\u001b[0m\u001b[0;34m]\u001b[0m\u001b[0;34m\u001b[0m\u001b[0m\n\u001b[1;32m     57\u001b[0m \u001b[0;34m\u001b[0m\u001b[0m\n\u001b[0;32m---> 58\u001b[0;31m         \u001b[0mobj\u001b[0m \u001b[0;34m=\u001b[0m \u001b[0msuper\u001b[0m\u001b[0;34m(\u001b[0m\u001b[0mAssocOp\u001b[0m\u001b[0;34m,\u001b[0m \u001b[0mcls\u001b[0m\u001b[0;34m)\u001b[0m\u001b[0;34m.\u001b[0m\u001b[0m__new__\u001b[0m\u001b[0;34m(\u001b[0m\u001b[0mcls\u001b[0m\u001b[0;34m,\u001b[0m \u001b[0;34m*\u001b[0m\u001b[0margs\u001b[0m\u001b[0;34m)\u001b[0m\u001b[0;34m\u001b[0m\u001b[0m\n\u001b[0m\u001b[1;32m     59\u001b[0m         \u001b[0;32mif\u001b[0m \u001b[0mis_commutative\u001b[0m \u001b[0;32mis\u001b[0m \u001b[0;32mNone\u001b[0m\u001b[0;34m:\u001b[0m\u001b[0;34m\u001b[0m\u001b[0m\n\u001b[1;32m     60\u001b[0m             \u001b[0mis_commutative\u001b[0m \u001b[0;34m=\u001b[0m \u001b[0mfuzzy_and\u001b[0m\u001b[0;34m(\u001b[0m\u001b[0ma\u001b[0m\u001b[0;34m.\u001b[0m\u001b[0mis_commutative\u001b[0m \u001b[0;32mfor\u001b[0m \u001b[0ma\u001b[0m \u001b[0;32min\u001b[0m \u001b[0margs\u001b[0m\u001b[0;34m)\u001b[0m\u001b[0;34m\u001b[0m\u001b[0m\n",
      "\u001b[0;31mKeyboardInterrupt\u001b[0m: "
     ]
    }
   ],
   "source": [
    "t=time.time();\n",
    "finalSolveWeightCoeffMatrix=np.empty((len(finalSolve),len(weightArray)-1),dtype=object);\n",
    "for i in range(len(finalSolve)):\n",
    "    for j in range(len(weightArray)-1):\n",
    "        finalSolveWeightCoeffMatrix[i,j]=Poly(finalSolve[i],weightArray[j]).coeff_monomial(weightArray[j])\n",
    "print(time.time()-t)\n",
    "\n",
    "t=time.time();\n",
    "constantOnTheRight=np.empty(len(finalSolve),dtype=object);\n",
    "for i in range(len(finalSolve)):\n",
    "    constantOnTheRight[i]=simplify(finalSolve[i]-np.dot(finalSolveWeightCoeffMatrix[i,:], weightArray[:-1]))*-1\n",
    "finalSolveWeightCoeffMatrixSympy=Matrix(finalSolveWeightCoeffMatrix);\n",
    "matrixFunc=lambdify(varianceArray, finalSolveWeightCoeffMatrixSympy, numpy);\n",
    "COTRFunc=lambdify(varianceArray, Matrix(constantOnTheRight), numpy);\n",
    "print(time.time()-t)"
   ]
  },
  {
   "cell_type": "code",
   "execution_count": 17,
   "metadata": {},
   "outputs": [
    {
     "data": {
      "text/plain": [
       "array([[2.0*V_0 + 2.0*V_1 + 2.0*V_2 + 2.0*V_3 + 2.0*V_8,\n",
       "        2.0*V_2 + 2.0*V_3 + 2.0*V_8, 2.0*V_0 + 2.0*V_1 + 2.0*V_8,\n",
       "        2.0*V_1 + 2.0*V_3 + 2.0*V_8, 2.0*V_0 + 2.0*V_2 + 2.0*V_8],\n",
       "       [2.0*V_2 + 2.0*V_3 + 2.0*V_8,\n",
       "        2.0*V_2 + 2.0*V_3 + 2.0*V_4 + 2.0*V_8, 2.0*V_8,\n",
       "        2.0*V_3 + 2.0*V_8, 2.0*V_2 + 2.0*V_8],\n",
       "       [2.0*V_0 + 2.0*V_1 + 2.0*V_8, 2.0*V_8,\n",
       "        2.0*V_0 + 2.0*V_1 + 2.0*V_5 + 2.0*V_8, 2.0*V_1 + 2.0*V_8,\n",
       "        2.0*V_0 + 2.0*V_8],\n",
       "       [2.0*V_1 + 2.0*V_3 + 2.0*V_8, 2.0*V_3 + 2.0*V_8,\n",
       "        2.0*V_1 + 2.0*V_8, 2.0*V_1 + 2.0*V_3 + 2.0*V_6 + 2.0*V_8,\n",
       "        2.0*V_8],\n",
       "       [2.0*V_0 + 2.0*V_2 + 2.0*V_8, 2.0*V_2 + 2.0*V_8,\n",
       "        2.0*V_0 + 2.0*V_8, 2.0*V_8,\n",
       "        2.0*V_0 + 2.0*V_2 + 2.0*V_7 + 2.0*V_8]], dtype=object)"
      ]
     },
     "execution_count": 17,
     "metadata": {},
     "output_type": "execute_result"
    }
   ],
   "source": [
    "finalSolveWeightCoeffMatrix"
   ]
  },
  {
   "cell_type": "code",
   "execution_count": 18,
   "metadata": {},
   "outputs": [
    {
     "data": {
      "text/plain": [
       "array([2.0*V_8, 2.0*V_8, 2.0*V_8, 2.0*V_8, 2.0*V_8], dtype=object)"
      ]
     },
     "execution_count": 18,
     "metadata": {},
     "output_type": "execute_result"
    }
   ],
   "source": [
    "constantOnTheRight"
   ]
  },
  {
   "cell_type": "code",
   "execution_count": null,
   "metadata": {
    "collapsed": true
   },
   "outputs": [],
   "source": []
  },
  {
   "cell_type": "code",
   "execution_count": null,
   "metadata": {
    "collapsed": true
   },
   "outputs": [],
   "source": [
    "\n",
    "\n",
    "\n",
    "saveDict={'finalSolveWeightCoeffMatrixSympy':finalSolveWeightCoeffMatrixSympy, 'constantOnTheRight':Matrix(constantOnTheRight), 'varianceArray':varianceArray,'basisList':basisList,'weightArray':weightArray,'estimatorList':estimatorList}\n",
    "\n",
    "with open(fileName, 'wb') as handle:\n",
    "    pickle.dump(saveDict, handle, protocol=pickle.HIGHEST_PROTOCOL)\n",
    "\n",
    "return saveDict\n"
   ]
  },
  {
   "cell_type": "code",
   "execution_count": null,
   "metadata": {
    "collapsed": true
   },
   "outputs": [],
   "source": []
  },
  {
   "cell_type": "code",
   "execution_count": null,
   "metadata": {
    "collapsed": true
   },
   "outputs": [],
   "source": []
  },
  {
   "cell_type": "code",
   "execution_count": null,
   "metadata": {
    "collapsed": true
   },
   "outputs": [],
   "source": []
  },
  {
   "cell_type": "code",
   "execution_count": 6,
   "metadata": {},
   "outputs": [
    {
     "name": "stdout",
     "output_type": "stream",
     "text": [
      "Help on module MVUE_2d:\n",
      "\n",
      "NAME\n",
      "    MVUE_2d\n",
      "\n",
      "FUNCTIONS\n",
      "    addNoise(binnedGT, readNoiseSD)\n",
      "        Just adding Poisson and Gaussian Noises to the binned GT.\n",
      "    \n",
      "    binning2D(GT, binningSize, exposureTime=1)\n",
      "        binningSize expects a tuple.\n",
      "    \n",
      "    coefficientSize_V2(lengthOfChip, logBinUpTo)\n",
      "        Return total number of coefficients (for 1d case).\n",
      "    \n",
      "    convertCoordinatesToTargetBox(startingCoordinates, endingCoordinates, lengthOfChip)\n",
      "        Give tuples as coordinates, return the targetBox in matrix format.\n",
      "    \n",
      "    findMVUE(fileName, targetBox=array([[1., 1.],\n",
      "           [1., 1.]]), lengthOfChip=4, logBinUpTo=2)\n",
      "        Return a dictionary storing matrices for MVUE.\n",
      "    \n",
      "    generateBasis_2d(lengthOfChip, logBinUpTo)\n",
      "        Generate Basis for 2d chip.\n",
      "    \n",
      "    generateEstimatorList_2d(targetBox, basisList, lengthOfChip, logBinUpTo)\n",
      "        Generate estimatorList for 2d.\n",
      "    \n",
      "    generateGT_2d(numOfSamples, chipSize)\n",
      "        Generate GT for 2d samples.\n",
      "\n",
      "DATA\n",
      "    C = <sympy.deprecated.class_registry.ClassRegistry object>\n",
      "    CC = CC\n",
      "    Catalan = Catalan\n",
      "    E = E\n",
      "    EX = EX\n",
      "    EulerGamma = EulerGamma\n",
      "    FU = {'L': <function L>, 'TR0': <function TR0>, 'TR1': <function TR1>,...\n",
      "    GoldenRatio = GoldenRatio\n",
      "    I = I\n",
      "    Id = Lambda(_x, _x)\n",
      "    Q = <sympy.assumptions.ask.AssumptionKeys object>\n",
      "    QQ = QQ\n",
      "    RR = RR\n",
      "    S = S\n",
      "    SYMPY_DEBUG = False\n",
      "    ZZ = ZZ\n",
      "    false = False\n",
      "    grevlex = ReversedGradedLexOrder()\n",
      "    grlex = GradedLexOrder()\n",
      "    igrevlex = InverseOrder()\n",
      "    igrlex = InverseOrder()\n",
      "    ilex = InverseOrder()\n",
      "    lex = LexOrder()\n",
      "    nan = nan\n",
      "    oo = oo\n",
      "    pi = pi\n",
      "    plot_backends = {'default': <class 'sympy.plotting.plot.DefaultBackend...\n",
      "    sieve = <Sieve with 6 primes sieved: 2, 3, 5, ... 11, 13>\n",
      "    true = True\n",
      "    zoo = zoo\n",
      "\n",
      "FILE\n",
      "    /home/lswo/Desktop/MatthewNotebook/MVUE_2d/MVUE_2d.py\n",
      "\n",
      "\n"
     ]
    }
   ],
   "source": [
    "help(MVUE_2d)"
   ]
  },
  {
   "cell_type": "code",
   "execution_count": null,
   "metadata": {
    "collapsed": true
   },
   "outputs": [],
   "source": []
  }
 ],
 "metadata": {
  "kernelspec": {
   "display_name": "Python 3",
   "language": "python",
   "name": "python3"
  },
  "language_info": {
   "codemirror_mode": {
    "name": "ipython",
    "version": 3
   },
   "file_extension": ".py",
   "mimetype": "text/x-python",
   "name": "python",
   "nbconvert_exporter": "python",
   "pygments_lexer": "ipython3",
   "version": "3.5.0"
  }
 },
 "nbformat": 4,
 "nbformat_minor": 2
}
