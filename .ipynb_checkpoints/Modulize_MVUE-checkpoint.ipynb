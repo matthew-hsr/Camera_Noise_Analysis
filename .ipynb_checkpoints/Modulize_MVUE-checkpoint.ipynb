{
 "cells": [
  {
   "cell_type": "code",
   "execution_count": 1,
   "metadata": {
    "ExecuteTime": {
     "end_time": "2018-05-22T18:27:37.475980Z",
     "start_time": "2018-05-22T18:27:34.195910Z"
    },
    "collapsed": true
   },
   "outputs": [],
   "source": [
    "import sympy as sp\n",
    "import numpy as np\n",
    "import numpy\n",
    "import time\n",
    "import matplotlib.pyplot as plt\n",
    "import scipy.signal\n",
    "import matplotlib\n",
    "import os\n",
    "import pickle"
   ]
  },
  {
   "cell_type": "code",
   "execution_count": 2,
   "metadata": {
    "collapsed": true
   },
   "outputs": [],
   "source": [
    "import matplotlib"
   ]
  },
  {
   "cell_type": "code",
   "execution_count": 3,
   "metadata": {
    "ExecuteTime": {
     "end_time": "2018-05-22T15:10:05.342159Z",
     "start_time": "2018-05-22T15:10:05.338154Z"
    },
    "collapsed": true
   },
   "outputs": [],
   "source": [
    "# %autoreload 1"
   ]
  },
  {
   "cell_type": "code",
   "execution_count": 6,
   "metadata": {
    "ExecuteTime": {
     "end_time": "2018-05-22T18:27:37.647053Z",
     "start_time": "2018-05-22T18:27:37.486915Z"
    },
    "collapsed": true
   },
   "outputs": [],
   "source": [
    "# %reload_ext autoreload\n",
    "# %autoreload 2\n",
    "\n",
    "import os\n",
    "os.chdir(r'/home/lswo/Desktop/MatthewNotebook/')\n",
    "from MVUE_OnlyUpToWeights_V2 import *"
   ]
  },
  {
   "cell_type": "code",
   "execution_count": 7,
   "metadata": {
    "ExecuteTime": {
     "end_time": "2018-05-22T18:27:37.835011Z",
     "start_time": "2018-05-22T18:27:37.832003Z"
    },
    "collapsed": true
   },
   "outputs": [],
   "source": [
    "lengthOfChip=16;"
   ]
  },
  {
   "cell_type": "code",
   "execution_count": 13,
   "metadata": {
    "ExecuteTime": {
     "end_time": "2018-05-22T18:27:38.179684Z",
     "start_time": "2018-05-22T18:27:38.168656Z"
    },
    "collapsed": true
   },
   "outputs": [],
   "source": [
    "def loadLogBinUpTo3():\n",
    "    dataDict={};\n",
    "    for num in range(7,16):\n",
    "        shiftedBoxes=getShiftBoxes(lengthOfChip, num);\n",
    "        dataDict[num]=loadBoxes(shiftedBoxes, r'/home/lswo/Desktop/MatthewNotebook/test_All/16_allBoxes_logEq3/')\n",
    "\n",
    "    # For logBinUpTo 3\n",
    "    path = r'/home/lswo/Desktop/MatthewNotebook/test_All/16_allBoxes_logEq3/'\n",
    "    logBinUpTo = 3;\n",
    "\n",
    "    basisList = generateBasis_V2(lengthOfChip, logBinUpTo);\n",
    "    basisDict=loadBoxes(basisList, path)\n",
    "    return dataDict, basisDict, basisList"
   ]
  },
  {
   "cell_type": "code",
   "execution_count": 27,
   "metadata": {
    "ExecuteTime": {
     "end_time": "2018-05-22T18:27:38.481723Z",
     "start_time": "2018-05-22T18:27:38.470121Z"
    },
    "collapsed": true
   },
   "outputs": [],
   "source": [
    "def loadLogBinUpTo4():\n",
    "    dataDict={};\n",
    "    for num in range(7,16):\n",
    "        shiftedBoxes=getShiftBoxes(lengthOfChip, num);\n",
    "        dataDict[num]=loadBoxes(shiftedBoxes, r'/home/lswo/Desktop/MatthewNotebook/test_All/16_allBoxes_logEq4/')\n",
    "\n",
    "    # For logBinUpTo 4\n",
    "    path = r'/home/lswo/Desktop/MatthewNotebook/test_All/16_allBoxes_logEq4/';\n",
    "    logBinUpTo = 4;\n",
    "\n",
    "    basisList = generateBasis_V2(lengthOfChip, logBinUpTo);\n",
    "    basisDict=loadBoxes(basisList, path)\n",
    "    return dataDict, basisDict, basisList"
   ]
  },
  {
   "cell_type": "code",
   "execution_count": 28,
   "metadata": {
    "ExecuteTime": {
     "end_time": "2018-05-22T18:28:16.516071Z",
     "start_time": "2018-05-22T18:27:40.712121Z"
    },
    "collapsed": true
   },
   "outputs": [],
   "source": [
    "dataDict3, basisDict3, basisList3 = loadLogBinUpTo3();"
   ]
  },
  {
   "cell_type": "code",
   "execution_count": 29,
   "metadata": {
    "ExecuteTime": {
     "end_time": "2018-05-22T18:29:12.226502Z",
     "start_time": "2018-05-22T18:28:16.518078Z"
    },
    "collapsed": true
   },
   "outputs": [],
   "source": [
    "dataDict4, basisDict4, basisList4 = loadLogBinUpTo4();"
   ]
  },
  {
   "cell_type": "code",
   "execution_count": 20,
   "metadata": {
    "collapsed": true
   },
   "outputs": [],
   "source": [
    "def dyadicExposureTime(binningList=[1,2,4,8], exposureTimeList=[1,2,4,8], dataDict=dataDict3, basisDict=basisDict3, basisList=basisList3):\n",
    "    \n",
    "#     binningList=[1,2,4,8];\n",
    "#     exposureTimeList=[1,2,4,8];\n",
    "    exposureTimeList=(np.asarray(exposureTimeList)/sum(exposureTimeList))*5;\n",
    "    dyadicData_ET=getdyadicData_ET(GT, binningList, exposureTimeList, readNoiseSD)\n",
    "#     print(sum(exposureTimeList))\n",
    "    \n",
    "    data_ET, varianceEstimates_ET = runMVUE_n_times(4, dyadicData_ET, numOfSamples, basisDict, basisList, readNoiseSD, \n",
    "                                                exposureTimeList, lengthOfChip, logBinUpTo, binningList)\n",
    "#     print(readNoiseSD)\n",
    "    SP_GT_ET=(binning(GT=GT, binningSize=1, exposureTime=(sum(exposureTimeList))))\n",
    "    SP_Data_ET=addNoise(SP_GT_ET, readNoiseSD=readNoiseSD)\n",
    "\n",
    "#     SP_Prediction_ET=np.sum(SP_Data_ET,0)/sum(exposureTimeList);\n",
    "#     print('{:.4f}, {:.4f}'.format(np.mean(SP_Prediction_ET),\n",
    "#           np.std(SP_Prediction_ET)))\n",
    "#     for i in range(0,4):\n",
    "#         printMeanNSTD(29, data_ET[i])\n",
    "    # Show the improvement in accuracy for all basis\n",
    "#     for i in range(0,30):\n",
    "#         basis=basisList[i];\n",
    "#         print('for dyadic:', basisList[i])\n",
    "#         print('Mean abs error perc = {:.2f} %'.format(np.mean(\n",
    "#             np.abs((dyadicData_ET[i,:] - np.dot(basis,GT))/np.dot(basis,GT)*100))))\n",
    "#         for jjj in range(1,4):\n",
    "#             tempData=data_ET[jjj];\n",
    "#             print('for MVUE:')\n",
    "#             print('Mean abs error perc = {:.2f} %'.format(np.mean(\n",
    "#                 np.abs((tempData[i,:] - np.dot(basis,GT))/np.dot(basis,GT)*100))))\n",
    "#         print('for SP:')\n",
    "#         print('Mean abs error perc = {:.2f} %'.format(np.mean(np.abs((np.dot(basis,\n",
    "#                                                                             (SP_Data_ET/np.sum(np.asarray(exposureTimeList))))\n",
    "#                                                                      - np.dot(basis,GT))/np.dot(basis,GT)*100))))\n",
    "    # Get the estimates from the boxes!\n",
    "    data_shiftedBoxes_ET={};\n",
    "    for num in range(10,16):\n",
    "        data_shiftedBoxes_ET[num]=(computeTargetLengths(dyadicData_ET, \n",
    "                                                        estimateVariance(data_ET[4], lengthOfChip, logBinUpTo, binningList, exposureTimeList, readNoiseSD)\n",
    "                                                                         , numOfSamples, readNoiseSD, dataDict, num, lengthOfChip))\n",
    "#     printShiftedBoxResults(data_shiftedBoxes_ET, SP_Data_ET, GT, exposureTimeList)\n",
    "    \n",
    "    dyadicMAEList, SPMAEList=storeShiftedBoxResults(data_shiftedBoxes_ET, SP_Data_ET, GT, exposureTimeList);\n",
    "    plt.plot(dyadicMAEList, label='dyadic data MAE %')\n",
    "    plt.plot(SPMAEList, label='SP MAE %')\n",
    "    allMin=np.min(np.asarray(dyadicMAEList+SPMAEList))\n",
    "    allMax=np.max(np.asarray(dyadicMAEList+SPMAEList))\n",
    "    plt.plot([7, 7], [allMin, allMax], color='k', linestyle='-', linewidth=2)\n",
    "    plt.plot([13, 13], [allMin, allMax], color='k', linestyle='-', linewidth=2)\n",
    "    plt.plot([18, 18], [allMin, allMax], color='k', linestyle='-', linewidth=2)\n",
    "    plt.plot([22, 22], [allMin, allMax], color='k', linestyle='-', linewidth=2)\n",
    "    plt.plot([25, 25], [allMin, allMax], color='k', linestyle='-', linewidth=2)\n",
    "    plt.plot()\n",
    "    plt.xlabel('Index')\n",
    "    plt.ylabel('MAE %')\n",
    "    plt.legend()\n",
    "    plt.title('MAE % for shifted target boxes for dyadic exposure time \\nReadNoise = {:.1f}'.format(readNoiseSD))\n",
    "    plt.show()"
   ]
  },
  {
   "cell_type": "code",
   "execution_count": 30,
   "metadata": {
    "ExecuteTime": {
     "end_time": "2018-05-22T18:29:12.234060Z",
     "start_time": "2018-05-22T18:29:12.229045Z"
    },
    "collapsed": true
   },
   "outputs": [],
   "source": [
    "readNoiseSD=30;\n",
    "# numOfSamples=1000;\n",
    "# GT=generateGT(numOfSamples=numOfSamples, lengthOfChip=lengthOfChip);"
   ]
  },
  {
   "cell_type": "code",
   "execution_count": 33,
   "metadata": {
    "ExecuteTime": {
     "end_time": "2018-05-22T17:23:36.553892Z",
     "start_time": "2018-05-22T17:23:36.546874Z"
    },
    "collapsed": true
   },
   "outputs": [],
   "source": [
    "numOfSamples=100;\n",
    "GT=generateGT(numOfSamples=numOfSamples, lengthOfChip=lengthOfChip);"
   ]
  },
  {
   "cell_type": "code",
   "execution_count": 34,
   "metadata": {
    "ExecuteTime": {
     "end_time": "2018-05-22T17:28:49.749361Z",
     "start_time": "2018-05-22T17:26:48.471516Z"
    }
   },
   "outputs": [
    {
     "ename": "ValueError",
     "evalue": "all the input arrays must have same number of dimensions",
     "output_type": "error",
     "traceback": [
      "\u001b[0;31m---------------------------------------------------------------------------\u001b[0m",
      "\u001b[0;31mValueError\u001b[0m                                Traceback (most recent call last)",
      "\u001b[0;32m<ipython-input-34-5e1895eaf361>\u001b[0m in \u001b[0;36m<module>\u001b[0;34m()\u001b[0m\n\u001b[1;32m      3\u001b[0m     \u001b[0mreadNoiseSD\u001b[0m\u001b[0;34m=\u001b[0m\u001b[0;36m1\u001b[0m\u001b[0;34m+\u001b[0m\u001b[0mi\u001b[0m\u001b[0;34m*\u001b[0m\u001b[0;36m5\u001b[0m\u001b[0;34m;\u001b[0m\u001b[0;34m\u001b[0m\u001b[0m\n\u001b[1;32m      4\u001b[0m     \u001b[0mt\u001b[0m\u001b[0;34m=\u001b[0m\u001b[0mtime\u001b[0m\u001b[0;34m.\u001b[0m\u001b[0mtime\u001b[0m\u001b[0;34m(\u001b[0m\u001b[0;34m)\u001b[0m\u001b[0;34m\u001b[0m\u001b[0m\n\u001b[0;32m----> 5\u001b[0;31m     \u001b[0mdyadicExposureTime\u001b[0m\u001b[0;34m(\u001b[0m\u001b[0mbinningList\u001b[0m\u001b[0;34m=\u001b[0m\u001b[0;34m[\u001b[0m\u001b[0;36m1\u001b[0m\u001b[0;34m,\u001b[0m\u001b[0;36m2\u001b[0m\u001b[0;34m,\u001b[0m\u001b[0;36m4\u001b[0m\u001b[0;34m,\u001b[0m\u001b[0;36m8\u001b[0m\u001b[0;34m]\u001b[0m\u001b[0;34m,\u001b[0m \u001b[0mexposureTimeList\u001b[0m\u001b[0;34m=\u001b[0m\u001b[0;34m[\u001b[0m\u001b[0;36m1\u001b[0m\u001b[0;34m,\u001b[0m\u001b[0;36m2\u001b[0m\u001b[0;34m,\u001b[0m\u001b[0;36m4\u001b[0m\u001b[0;34m,\u001b[0m\u001b[0;36m8\u001b[0m\u001b[0;34m]\u001b[0m\u001b[0;34m,\u001b[0m \u001b[0mdataDict\u001b[0m\u001b[0;34m=\u001b[0m\u001b[0mdataDict3\u001b[0m\u001b[0;34m,\u001b[0m \u001b[0mbasisDict\u001b[0m\u001b[0;34m=\u001b[0m\u001b[0mbasisDict3\u001b[0m\u001b[0;34m,\u001b[0m \u001b[0mbasisList\u001b[0m\u001b[0;34m=\u001b[0m\u001b[0mbasisList3\u001b[0m\u001b[0;34m)\u001b[0m\u001b[0;34m\u001b[0m\u001b[0m\n\u001b[0m\u001b[1;32m      6\u001b[0m     \u001b[0mprint\u001b[0m\u001b[0;34m(\u001b[0m\u001b[0mtime\u001b[0m\u001b[0;34m.\u001b[0m\u001b[0mtime\u001b[0m\u001b[0;34m(\u001b[0m\u001b[0;34m)\u001b[0m\u001b[0;34m-\u001b[0m\u001b[0mt\u001b[0m\u001b[0;34m)\u001b[0m\u001b[0;34m\u001b[0m\u001b[0m\n",
      "\u001b[0;32m<ipython-input-20-58ae8d8760b6>\u001b[0m in \u001b[0;36mdyadicExposureTime\u001b[0;34m(binningList, exposureTimeList, dataDict, basisDict, basisList)\u001b[0m\n\u001b[1;32m     38\u001b[0m         data_shiftedBoxes_ET[num]=(computeTargetLengths(dyadicData_ET, \n\u001b[1;32m     39\u001b[0m                                                         \u001b[0mestimateVariance\u001b[0m\u001b[0;34m(\u001b[0m\u001b[0mdata_ET\u001b[0m\u001b[0;34m[\u001b[0m\u001b[0;36m4\u001b[0m\u001b[0;34m]\u001b[0m\u001b[0;34m,\u001b[0m \u001b[0mlengthOfChip\u001b[0m\u001b[0;34m,\u001b[0m \u001b[0mlogBinUpTo\u001b[0m\u001b[0;34m,\u001b[0m \u001b[0mbinningList\u001b[0m\u001b[0;34m,\u001b[0m \u001b[0mexposureTimeList\u001b[0m\u001b[0;34m,\u001b[0m \u001b[0mreadNoiseSD\u001b[0m\u001b[0;34m)\u001b[0m\u001b[0;34m\u001b[0m\u001b[0m\n\u001b[0;32m---> 40\u001b[0;31m                                                                          , numOfSamples, readNoiseSD, dataDict, num, lengthOfChip))\n\u001b[0m\u001b[1;32m     41\u001b[0m \u001b[0;31m#     printShiftedBoxResults(data_shiftedBoxes_ET, SP_Data_ET, GT, exposureTimeList)\u001b[0m\u001b[0;34m\u001b[0m\u001b[0;34m\u001b[0m\u001b[0m\n\u001b[1;32m     42\u001b[0m \u001b[0;34m\u001b[0m\u001b[0m\n",
      "\u001b[0;32m~/Desktop/MatthewNotebook/MVUE_OnlyUpToWeights_V2.py\u001b[0m in \u001b[0;36mcomputeTargetLengths\u001b[0;34m(dyadicData, dataForVarianceEstimate, numOfSamples, readNoiseSD, dataDict, i, lengthOfChip)\u001b[0m\n\u001b[1;32m    490\u001b[0m \u001b[0;32mdef\u001b[0m \u001b[0mcomputeTargetLengths\u001b[0m\u001b[0;34m(\u001b[0m\u001b[0mdyadicData\u001b[0m\u001b[0;34m,\u001b[0m \u001b[0mdataForVarianceEstimate\u001b[0m\u001b[0;34m,\u001b[0m \u001b[0mnumOfSamples\u001b[0m\u001b[0;34m,\u001b[0m \u001b[0mreadNoiseSD\u001b[0m\u001b[0;34m,\u001b[0m \u001b[0mdataDict\u001b[0m\u001b[0;34m,\u001b[0m \u001b[0mi\u001b[0m\u001b[0;34m,\u001b[0m \u001b[0mlengthOfChip\u001b[0m\u001b[0;34m)\u001b[0m\u001b[0;34m:\u001b[0m \u001b[0;31m# ComputeTargetLength\u001b[0m\u001b[0;34m\u001b[0m\u001b[0m\n\u001b[1;32m    491\u001b[0m     return computeTargetLength_ExposureTime(dyadicData, dataForVarianceEstimate, \n\u001b[0;32m--> 492\u001b[0;31m                                                  numOfSamples, readNoiseSD, dataDict, i, lengthOfChip)    \n\u001b[0m\u001b[1;32m    493\u001b[0m \u001b[0;34m\u001b[0m\u001b[0m\n\u001b[1;32m    494\u001b[0m \u001b[0;31m# Pass in a dictionary which stores the pickles\u001b[0m\u001b[0;34m\u001b[0m\u001b[0;34m\u001b[0m\u001b[0m\n",
      "\u001b[0;32m~/Desktop/MatthewNotebook/MVUE_OnlyUpToWeights_V2.py\u001b[0m in \u001b[0;36mcomputeTargetLength_ExposureTime\u001b[0;34m(dyadicData, dataForVarianceEstimate, numOfSamples, readNoiseSD, dataDict, lengthOfROI, lengthOfChip)\u001b[0m\n\u001b[1;32m    515\u001b[0m         \u001b[0mallWeights\u001b[0m\u001b[0;34m=\u001b[0m\u001b[0mnp\u001b[0m\u001b[0;34m.\u001b[0m\u001b[0mvstack\u001b[0m\u001b[0;34m(\u001b[0m\u001b[0;34m(\u001b[0m\u001b[0mallWeights\u001b[0m\u001b[0;34m,\u001b[0m\u001b[0;36m1\u001b[0m\u001b[0;34m-\u001b[0m\u001b[0mnp\u001b[0m\u001b[0;34m.\u001b[0m\u001b[0msum\u001b[0m\u001b[0;34m(\u001b[0m\u001b[0mallWeights\u001b[0m\u001b[0;34m,\u001b[0m\u001b[0;36m0\u001b[0m\u001b[0;34m)\u001b[0m\u001b[0;34m)\u001b[0m\u001b[0;34m)\u001b[0m\u001b[0;34m;\u001b[0m\u001b[0;34m\u001b[0m\u001b[0m\n\u001b[1;32m    516\u001b[0m         \u001b[0mnewData\u001b[0m\u001b[0;34m=\u001b[0m\u001b[0mnp\u001b[0m\u001b[0;34m.\u001b[0m\u001b[0msum\u001b[0m\u001b[0;34m(\u001b[0m\u001b[0mnp\u001b[0m\u001b[0;34m.\u001b[0m\u001b[0mmultiply\u001b[0m\u001b[0;34m(\u001b[0m\u001b[0mallEstimators\u001b[0m\u001b[0;34m,\u001b[0m \u001b[0mallWeights\u001b[0m\u001b[0;34m)\u001b[0m\u001b[0;34m,\u001b[0m\u001b[0;36m0\u001b[0m\u001b[0;34m)\u001b[0m\u001b[0;34m\u001b[0m\u001b[0m\n\u001b[0;32m--> 517\u001b[0;31m         \u001b[0mtargetBoxResult\u001b[0m\u001b[0;34m=\u001b[0m\u001b[0mnp\u001b[0m\u001b[0;34m.\u001b[0m\u001b[0mhstack\u001b[0m\u001b[0;34m(\u001b[0m\u001b[0;34m(\u001b[0m\u001b[0mtargetBoxResult\u001b[0m\u001b[0;34m,\u001b[0m \u001b[0mnewData\u001b[0m\u001b[0;34m.\u001b[0m\u001b[0mT\u001b[0m\u001b[0;34m)\u001b[0m\u001b[0;34m)\u001b[0m\u001b[0;34m\u001b[0m\u001b[0m\n\u001b[0m\u001b[1;32m    518\u001b[0m     \u001b[0;31m# print(time.time()-t)\u001b[0m\u001b[0;34m\u001b[0m\u001b[0;34m\u001b[0m\u001b[0m\n\u001b[1;32m    519\u001b[0m     \u001b[0;32mreturn\u001b[0m \u001b[0mnp\u001b[0m\u001b[0;34m.\u001b[0m\u001b[0masarray\u001b[0m\u001b[0;34m(\u001b[0m\u001b[0mtargetBoxResult\u001b[0m\u001b[0;34m)\u001b[0m\u001b[0;34m\u001b[0m\u001b[0m\n",
      "\u001b[0;32m~/miniconda3/envs/pm/lib/python3.6/site-packages/numpy/core/shape_base.py\u001b[0m in \u001b[0;36mhstack\u001b[0;34m(tup)\u001b[0m\n\u001b[1;32m    286\u001b[0m         \u001b[0;32mreturn\u001b[0m \u001b[0m_nx\u001b[0m\u001b[0;34m.\u001b[0m\u001b[0mconcatenate\u001b[0m\u001b[0;34m(\u001b[0m\u001b[0marrs\u001b[0m\u001b[0;34m,\u001b[0m \u001b[0;36m0\u001b[0m\u001b[0;34m)\u001b[0m\u001b[0;34m\u001b[0m\u001b[0m\n\u001b[1;32m    287\u001b[0m     \u001b[0;32melse\u001b[0m\u001b[0;34m:\u001b[0m\u001b[0;34m\u001b[0m\u001b[0m\n\u001b[0;32m--> 288\u001b[0;31m         \u001b[0;32mreturn\u001b[0m \u001b[0m_nx\u001b[0m\u001b[0;34m.\u001b[0m\u001b[0mconcatenate\u001b[0m\u001b[0;34m(\u001b[0m\u001b[0marrs\u001b[0m\u001b[0;34m,\u001b[0m \u001b[0;36m1\u001b[0m\u001b[0;34m)\u001b[0m\u001b[0;34m\u001b[0m\u001b[0m\n\u001b[0m\u001b[1;32m    289\u001b[0m \u001b[0;34m\u001b[0m\u001b[0m\n\u001b[1;32m    290\u001b[0m \u001b[0;34m\u001b[0m\u001b[0m\n",
      "\u001b[0;31mValueError\u001b[0m: all the input arrays must have same number of dimensions"
     ]
    }
   ],
   "source": [
    "for i in range(10):\n",
    "    logBinUpTo = 3;\n",
    "    readNoiseSD=1+i*5;\n",
    "    t=time.time()\n",
    "    dyadicExposureTime(binningList=[1,2,4,8], exposureTimeList=[1,2,4,8], dataDict=dataDict3, basisDict=basisDict3, basisList=basisList3)\n",
    "    print(time.time()-t)"
   ]
  },
  {
   "cell_type": "code",
   "execution_count": null,
   "metadata": {
    "ExecuteTime": {
     "end_time": "2018-05-22T17:30:44.999426Z",
     "start_time": "2018-05-22T17:28:49.751366Z"
    },
    "collapsed": true
   },
   "outputs": [],
   "source": [
    "for i in range(10):\n",
    "    readNoiseSD=1+i*5;\n",
    "    logBinUpTo = 3;\n",
    "    t=time.time()\n",
    "    dyadicExposureTime(binningList=[1,2,4,8], exposureTimeList=[1,1,1,1], dataDict=dataDict3, basisDict=basisDict3, basisList=basisList3)\n",
    "    print(time.time()-t)"
   ]
  },
  {
   "cell_type": "code",
   "execution_count": null,
   "metadata": {
    "ExecuteTime": {
     "end_time": "2018-05-22T17:34:52.296306Z",
     "start_time": "2018-05-22T17:30:45.001431Z"
    },
    "collapsed": true
   },
   "outputs": [],
   "source": [
    "for i in range(10):\n",
    "    readNoiseSD=1+i*5;\n",
    "    logBinUpTo = 4;\n",
    "    t=time.time()\n",
    "    dyadicExposureTime(binningList=[1,2,4,8,16], exposureTimeList=[1,2,4,8,16], dataDict=dataDict4, basisDict=basisDict4, basisList=basisList4)\n",
    "    print(time.time()-t)"
   ]
  },
  {
   "cell_type": "code",
   "execution_count": null,
   "metadata": {
    "ExecuteTime": {
     "end_time": "2018-05-22T18:29:12.250102Z",
     "start_time": "2018-05-22T18:29:12.236531Z"
    },
    "collapsed": true
   },
   "outputs": [],
   "source": [
    "for i in range(10):\n",
    "    readNoiseSD=1+i*5;\n",
    "    logBinUpTo = 4;\n",
    "    t=time.time()\n",
    "    dyadicExposureTime(binningList=[1,2,4,8,16], exposureTimeList=[1,1,1,1,1], dataDict=dataDict4, basisDict=basisDict4, basisList=basisList4)\n",
    "    print(time.time()-t)"
   ]
  },
  {
   "cell_type": "code",
   "execution_count": null,
   "metadata": {
    "collapsed": true
   },
   "outputs": [],
   "source": []
  },
  {
   "cell_type": "code",
   "execution_count": null,
   "metadata": {
    "collapsed": true
   },
   "outputs": [],
   "source": []
  },
  {
   "cell_type": "code",
   "execution_count": null,
   "metadata": {
    "ExecuteTime": {
     "start_time": "2018-05-22T19:31:09.032Z"
    },
    "collapsed": true
   },
   "outputs": [],
   "source": [
    "for i in range(2):\n",
    "    readNoiseSD=1+i*5;\n",
    "    logBinUpTo = 4;\n",
    "    dyadicExposureTime(binningList=[1,2,4,8,16], exposureTimeList=[1,1,1,1,1], dataDict=dataDict4, basisDict=basisDict4, basisList=basisList4)"
   ]
  },
  {
   "cell_type": "code",
   "execution_count": null,
   "metadata": {
    "ExecuteTime": {
     "end_time": "2018-05-22T18:29:12.477725Z",
     "start_time": "2018-05-22T18:27:54.339Z"
    },
    "collapsed": true
   },
   "outputs": [],
   "source": [
    "for i in range(2):\n",
    "    readNoiseSD=1+i*5;\n",
    "    logBinUpTo = 4\n",
    "    dyadicExposureTime(binningList=[1,2,4,8,16], exposureTimeList=[1,1,1,1,1], dataDict=dataDict4, basisDict=basisDict4, basisList=basisList4)"
   ]
  },
  {
   "cell_type": "code",
   "execution_count": null,
   "metadata": {
    "ExecuteTime": {
     "end_time": "2018-05-22T18:10:09.145486Z",
     "start_time": "2018-05-22T18:10:09.139469Z"
    },
    "collapsed": true
   },
   "outputs": [],
   "source": [
    "binningList=[1,2,4,8,16]; exposureTimeList=[1,1,1,1,1]; dataDict=dataDict4; basisDict=basisDict4; basisList=basisList4;"
   ]
  },
  {
   "cell_type": "code",
   "execution_count": null,
   "metadata": {
    "ExecuteTime": {
     "end_time": "2018-05-22T18:12:32.681908Z",
     "start_time": "2018-05-22T18:11:54.177009Z"
    },
    "collapsed": true
   },
   "outputs": [],
   "source": [
    "# Debug unflag SP MAE\n",
    "\n",
    "logBinUpTo = 4;\n",
    "readNoiseSD = 1;\n",
    "exposureTimeList=(np.asarray(exposureTimeList)/sum(exposureTimeList))*5;\n",
    "dyadicData_ET=getdyadicData_ET(GT, binningList, exposureTimeList, readNoiseSD)\n",
    "#     print(sum(exposureTimeList))\n",
    "\n",
    "data_ET, varianceEstimates_ET = runMVUE_n_times(4, dyadicData_ET, numOfSamples, basisDict, basisList, readNoiseSD, \n",
    "                                            exposureTimeList, lengthOfChip, logBinUpTo, binningList)\n",
    "#     print(readNoiseSD)\n",
    "SP_GT_ET=(binning(GT=GT, binningSize=1, exposureTime=(sum(exposureTimeList))))\n",
    "SP_Data_ET=addNoise(SP_GT_ET, readNoiseSD=readNoiseSD)\n",
    "\n",
    "#     SP_Prediction_ET=np.sum(SP_Data_ET,0)/sum(exposureTimeList);\n",
    "#     print('{:.4f}, {:.4f}'.format(np.mean(SP_Prediction_ET),\n",
    "#           np.std(SP_Prediction_ET)))\n",
    "#     for i in range(0,4):\n",
    "#         printMeanNSTD(29, data_ET[i])\n",
    "# Show the improvement in accuracy for all basis\n",
    "#     for i in range(0,30):\n",
    "#         basis=basisList[i];\n",
    "#         print('for dyadic:', basisList[i])\n",
    "#         print('Mean abs error perc = {:.2f} %'.format(np.mean(\n",
    "#             np.abs((dyadicData_ET[i,:] - np.dot(basis,GT))/np.dot(basis,GT)*100))))\n",
    "#         for jjj in range(1,4):\n",
    "#             tempData=data_ET[jjj];\n",
    "#             print('for MVUE:')\n",
    "#             print('Mean abs error perc = {:.2f} %'.format(np.mean(\n",
    "#                 np.abs((tempData[i,:] - np.dot(basis,GT))/np.dot(basis,GT)*100))))\n",
    "#         print('for SP:')\n",
    "#         print('Mean abs error perc = {:.2f} %'.format(np.mean(np.abs((np.dot(basis,\n",
    "#                                                                             (SP_Data_ET/np.sum(np.asarray(exposureTimeList))))\n",
    "#                                                                      - np.dot(basis,GT))/np.dot(basis,GT)*100))))\n",
    "# Get the estimates from the boxes!\n",
    "data_shiftedBoxes_ET={};\n",
    "for num in range(10,16):\n",
    "    data_shiftedBoxes_ET[num]=(computeTargetLengths(dyadicData_ET, \n",
    "                                                    estimateVariance(data_ET[4], lengthOfChip, logBinUpTo, binningList, exposureTimeList, readNoiseSD)\n",
    "                                                                     , numOfSamples, readNoiseSD, dataDict, num, lengthOfChip))\n",
    "#     printShiftedBoxResults(data_shiftedBoxes_ET, SP_Data_ET, GT, exposureTimeList)\n",
    "\n"
   ]
  },
  {
   "cell_type": "code",
   "execution_count": null,
   "metadata": {
    "ExecuteTime": {
     "end_time": "2018-05-22T18:19:56.028201Z",
     "start_time": "2018-05-22T18:19:55.710695Z"
    },
    "collapsed": true
   },
   "outputs": [],
   "source": [
    "dyadicMAEList, SPMAEList=storeShiftedBoxResults(data_shiftedBoxes_ET, SP_Data_ET, GT, exposureTimeList);\n",
    "plt.plot(dyadicMAEList, label='dyadic data MAE %')\n",
    "plt.plot(SPMAEList, label='SP MAE %')\n",
    "allMin=np.min(np.asarray(dyadicMAEList+SPMAEList))\n",
    "allMax=np.max(np.asarray(dyadicMAEList+SPMAEList))\n",
    "plt.plot([7, 7], [allMin, allMax], color='k', linestyle='-', linewidth=2)\n",
    "plt.plot([13, 13], [allMin, allMax], color='k', linestyle='-', linewidth=2)\n",
    "plt.plot([18, 18], [allMin, allMax], color='k', linestyle='-', linewidth=2)\n",
    "plt.plot([22, 22], [allMin, allMax], color='k', linestyle='-', linewidth=2)\n",
    "plt.plot([25, 25], [allMin, allMax], color='k', linestyle='-', linewidth=2)\n",
    "plt.plot()\n",
    "plt.xlabel('Index')\n",
    "plt.ylabel('MAE %')\n",
    "plt.legend()\n",
    "plt.title('MAE % for shifted target boxes for dyadic exposure time \\nReadNoise = {:.1f}'.format(readNoiseSD))\n",
    "plt.show()"
   ]
  },
  {
   "cell_type": "code",
   "execution_count": null,
   "metadata": {
    "ExecuteTime": {
     "end_time": "2018-05-22T18:23:10.531740Z",
     "start_time": "2018-05-22T18:23:10.389541Z"
    },
    "collapsed": true
   },
   "outputs": [],
   "source": [
    "plt.plot(np.mean(SP_Data_ET,1))\n",
    "plt.plot(SP_Data_ET[:,20])\n",
    "plt.show()"
   ]
  },
  {
   "cell_type": "code",
   "execution_count": null,
   "metadata": {
    "collapsed": true
   },
   "outputs": [],
   "source": [
    "# loadBoxes\n",
    "# getdyadicData_ET\n",
    "# printMeanNSTD\n",
    "# estimateVariance\n",
    "# runImprovNum_Intuitive_ExposureTime\n",
    "# runMVUE_n_times\n",
    "# storeShiftedBoxResults\n",
    "# printShiftedBoxResults\n",
    "# printMeanNSTD"
   ]
  },
  {
   "cell_type": "code",
   "execution_count": null,
   "metadata": {
    "collapsed": true
   },
   "outputs": [],
   "source": []
  },
  {
   "cell_type": "code",
   "execution_count": null,
   "metadata": {
    "collapsed": true
   },
   "outputs": [],
   "source": []
  },
  {
   "cell_type": "code",
   "execution_count": null,
   "metadata": {
    "ExecuteTime": {
     "end_time": "2018-05-22T18:14:26.501123Z",
     "start_time": "2018-05-22T18:14:26.485076Z"
    },
    "collapsed": true
   },
   "outputs": [],
   "source": [
    "for lengthOfROI in range(10,16):\n",
    "    targetBoxes=getShiftBoxes(16,lengthOfROI);\n",
    "    print(targetBoxes)\n",
    "    print('new')"
   ]
  },
  {
   "cell_type": "code",
   "execution_count": null,
   "metadata": {
    "ExecuteTime": {
     "end_time": "2018-05-22T17:47:11.296943Z",
     "start_time": "2018-05-22T17:47:11.290926Z"
    },
    "collapsed": true
   },
   "outputs": [],
   "source": [
    "targetBoxes"
   ]
  },
  {
   "cell_type": "code",
   "execution_count": null,
   "metadata": {
    "collapsed": true
   },
   "outputs": [],
   "source": []
  }
 ],
 "metadata": {
  "kernelspec": {
   "display_name": "Python 3",
   "language": "python",
   "name": "python3"
  },
  "language_info": {
   "codemirror_mode": {
    "name": "ipython",
    "version": 3
   },
   "file_extension": ".py",
   "mimetype": "text/x-python",
   "name": "python",
   "nbconvert_exporter": "python",
   "pygments_lexer": "ipython3",
   "version": "3.5.0"
  }
 },
 "nbformat": 4,
 "nbformat_minor": 2
}
