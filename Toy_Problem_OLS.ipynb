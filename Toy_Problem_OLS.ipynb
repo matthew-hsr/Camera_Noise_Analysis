{
 "cells": [
  {
   "cell_type": "code",
   "execution_count": 1,
   "metadata": {
    "ExecuteTime": {
     "end_time": "2018-06-13T23:21:14.945229Z",
     "start_time": "2018-06-13T23:21:11.706470Z"
    },
    "collapsed": true
   },
   "outputs": [],
   "source": [
    "from MVUE_2d import *"
   ]
  },
  {
   "cell_type": "code",
   "execution_count": 5,
   "metadata": {
    "ExecuteTime": {
     "end_time": "2018-06-13T23:29:37.355635Z",
     "start_time": "2018-06-13T23:29:37.350652Z"
    }
   },
   "outputs": [],
   "source": [
    "GT=generateGT_2d(1,2)"
   ]
  },
  {
   "cell_type": "code",
   "execution_count": null,
   "metadata": {
    "collapsed": true
   },
   "outputs": [],
   "source": []
  }
 ],
 "metadata": {
  "kernelspec": {
   "display_name": "Python 3",
   "language": "python",
   "name": "python3"
  },
  "language_info": {
   "codemirror_mode": {
    "name": "ipython",
    "version": 3
   },
   "file_extension": ".py",
   "mimetype": "text/x-python",
   "name": "python",
   "nbconvert_exporter": "python",
   "pygments_lexer": "ipython3",
   "version": "3.5.0"
  }
 },
 "nbformat": 4,
 "nbformat_minor": 2
}
